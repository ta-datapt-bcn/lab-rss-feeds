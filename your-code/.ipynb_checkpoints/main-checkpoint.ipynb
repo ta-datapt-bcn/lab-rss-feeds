{
 "cells": [
  {
   "cell_type": "markdown",
   "metadata": {},
   "source": [
    "# Working with RSS Feeds Lab\n",
    "\n",
    "Complete the following set of exercises to solidify your knowledge of parsing RSS feeds and extracting information from them."
   ]
  },
  {
   "cell_type": "code",
   "execution_count": 1,
   "metadata": {},
   "outputs": [],
   "source": [
    "import feedparser"
   ]
  },
  {
   "cell_type": "markdown",
   "metadata": {},
   "source": [
    "### 1. Use feedparser to parse the following RSS feed URL."
   ]
  },
  {
   "cell_type": "code",
   "execution_count": 2,
   "metadata": {},
   "outputs": [],
   "source": [
    "url = 'http://feeds.feedburner.com/oreilly/radar/atom'"
   ]
  },
  {
   "cell_type": "code",
   "execution_count": 3,
   "metadata": {},
   "outputs": [],
   "source": [
    "feedburner = feedparser.parse(url)"
   ]
  },
  {
   "cell_type": "markdown",
   "metadata": {},
   "source": [
    "### 2. Obtain a list of components (keys) that are available for this feed."
   ]
  },
  {
   "cell_type": "code",
   "execution_count": 18,
   "metadata": {},
   "outputs": [
    {
     "data": {
      "text/plain": [
       "dict_keys(['feed', 'entries', 'bozo', 'headers', 'etag', 'updated', 'updated_parsed', 'href', 'status', 'encoding', 'version', 'namespaces'])"
      ]
     },
     "execution_count": 18,
     "metadata": {},
     "output_type": "execute_result"
    }
   ],
   "source": [
    "feedburner.keys()"
   ]
  },
  {
   "cell_type": "markdown",
   "metadata": {},
   "source": [
    "### 3. Obtain a list of components (keys) that are available for the *feed* component of this RSS feed."
   ]
  },
  {
   "cell_type": "code",
   "execution_count": 19,
   "metadata": {},
   "outputs": [
    {
     "data": {
      "text/plain": [
       "dict_keys(['title', 'title_detail', 'links', 'link', 'subtitle', 'subtitle_detail', 'updated', 'updated_parsed', 'language', 'sy_updateperiod', 'sy_updatefrequency', 'generator_detail', 'generator', 'feedburner_info', 'geo_lat', 'geo_long', 'feedburner_emailserviceid', 'feedburner_feedburnerhostname'])"
      ]
     },
     "execution_count": 19,
     "metadata": {},
     "output_type": "execute_result"
    }
   ],
   "source": [
    "feedburner.feed.keys()"
   ]
  },
  {
   "cell_type": "markdown",
   "metadata": {},
   "source": [
    "### 4. Extract and print the feed title, subtitle, author, and link."
   ]
  },
  {
   "cell_type": "code",
   "execution_count": 34,
   "metadata": {},
   "outputs": [
    {
     "name": "stdout",
     "output_type": "stream",
     "text": [
      "Radar\n",
      "https://www.oreilly.com/radar\n",
      "Now, next, and beyond: Tracking need-to-know trends at the intersection of business and technology\n"
     ]
    }
   ],
   "source": [
    "for key in feedburner.feed.keys():\n",
    "    if key in ['title', 'subtitle', 'author', 'link']:\n",
    "        print(feedburner.feed[key])"
   ]
  },
  {
   "cell_type": "markdown",
   "metadata": {},
   "source": [
    "### 5. Count the number of entries that are contained in this RSS feed."
   ]
  },
  {
   "cell_type": "code",
   "execution_count": 39,
   "metadata": {},
   "outputs": [
    {
     "data": {
      "text/plain": [
       "60"
      ]
     },
     "execution_count": 39,
     "metadata": {},
     "output_type": "execute_result"
    }
   ],
   "source": [
    "len(feedburner.entries)"
   ]
  },
  {
   "cell_type": "markdown",
   "metadata": {},
   "source": [
    "### 6. Obtain a list of components (keys) available for an entry.\n",
    "\n",
    "*Hint: Remember to index first before requesting the keys*"
   ]
  },
  {
   "cell_type": "code",
   "execution_count": 40,
   "metadata": {},
   "outputs": [
    {
     "data": {
      "text/plain": [
       "dict_keys(['title', 'title_detail', 'links', 'link', 'comments', 'published', 'published_parsed', 'authors', 'author', 'author_detail', 'tags', 'id', 'guidislink', 'summary', 'summary_detail', 'content', 'wfw_commentrss', 'slash_comments', 'feedburner_origlink'])"
      ]
     },
     "execution_count": 40,
     "metadata": {},
     "output_type": "execute_result"
    }
   ],
   "source": [
    "feedburner.entries[0].keys()"
   ]
  },
  {
   "cell_type": "markdown",
   "metadata": {},
   "source": [
    "### 7. Extract a list of entry titles."
   ]
  },
  {
   "cell_type": "code",
   "execution_count": 43,
   "metadata": {},
   "outputs": [],
   "source": [
    "lst=[]\n",
    "for entry in feedburner.entries:\n",
    "    lst.append(entry.title)"
   ]
  },
  {
   "cell_type": "markdown",
   "metadata": {},
   "source": [
    "### 8. Calculate the percentage of \"Four short links\" entry titles."
   ]
  },
  {
   "cell_type": "code",
   "execution_count": 48,
   "metadata": {},
   "outputs": [
    {
     "name": "stdout",
     "output_type": "stream",
     "text": [
      "51.66666666666667\n"
     ]
    }
   ],
   "source": [
    "c = 0\n",
    "for element in lst:\n",
    "    if 'Four short' in element:\n",
    "        c+=1\n",
    "print(f'{(c/len(lst))*100}')"
   ]
  },
  {
   "cell_type": "markdown",
   "metadata": {},
   "source": [
    "### 9. Create a Pandas data frame from the feed's entries."
   ]
  },
  {
   "cell_type": "code",
   "execution_count": 51,
   "metadata": {},
   "outputs": [],
   "source": [
    "import pandas as pd"
   ]
  },
  {
   "cell_type": "code",
   "execution_count": 58,
   "metadata": {},
   "outputs": [],
   "source": [
    "df = pd.DataFrame(feedburner.entries)"
   ]
  },
  {
   "cell_type": "markdown",
   "metadata": {},
   "source": [
    "### 10. Count the number of entries per author and sort them in descending order."
   ]
  },
  {
   "cell_type": "code",
   "execution_count": 63,
   "metadata": {},
   "outputs": [
    {
     "data": {
      "text/plain": [
       "Nat Torkington                                    32\n",
       "Mike Loukides                                     16\n",
       "                                                   4\n",
       "Q Ethan McCallum and Mike Loukides                 1\n",
       "Justin Norman and Mike Loukides                    1\n",
       "Kevlin Henney                                      1\n",
       "Matthew Rocklin and Hugo Bowne-Anderson            1\n",
       "Q Ethan McCallum, Chris Butler and Shane Glynn     1\n",
       "Patrick Hall and Ayoub Ouederni                    1\n",
       "Tim O’Reilly                                       1\n",
       "Alex Castrounis                                    1\n",
       "Name: author, dtype: int64"
      ]
     },
     "execution_count": 63,
     "metadata": {},
     "output_type": "execute_result"
    }
   ],
   "source": [
    "df['author'].value_counts()"
   ]
  },
  {
   "cell_type": "markdown",
   "metadata": {},
   "source": [
    "### 11. Add a new column to the data frame that contains the length (number of characters) of each entry title. Return a data frame that contains the title, author, and title length of each entry in descending order (longest title length at the top)."
   ]
  },
  {
   "cell_type": "code",
   "execution_count": 77,
   "metadata": {},
   "outputs": [
    {
     "data": {
      "text/html": [
       "<div>\n",
       "<style scoped>\n",
       "    .dataframe tbody tr th:only-of-type {\n",
       "        vertical-align: middle;\n",
       "    }\n",
       "\n",
       "    .dataframe tbody tr th {\n",
       "        vertical-align: top;\n",
       "    }\n",
       "\n",
       "    .dataframe thead th {\n",
       "        text-align: right;\n",
       "    }\n",
       "</style>\n",
       "<table border=\"1\" class=\"dataframe\">\n",
       "  <thead>\n",
       "    <tr style=\"text-align: right;\">\n",
       "      <th></th>\n",
       "      <th>title</th>\n",
       "      <th>author</th>\n",
       "      <th>Number of characters</th>\n",
       "    </tr>\n",
       "  </thead>\n",
       "  <tbody>\n",
       "    <tr>\n",
       "      <th>58</th>\n",
       "      <td>Why Best-of-Breed is a Better Choice than All-...</td>\n",
       "      <td>Matthew Rocklin and Hugo Bowne-Anderson</td>\n",
       "      <td>79</td>\n",
       "    </tr>\n",
       "    <tr>\n",
       "      <th>8</th>\n",
       "      <td>Where Programming, Ops, AI, and the Cloud are ...</td>\n",
       "      <td>Mike Loukides</td>\n",
       "      <td>60</td>\n",
       "    </tr>\n",
       "    <tr>\n",
       "      <th>5</th>\n",
       "      <td>5 infrastructure and operations trends to watc...</td>\n",
       "      <td></td>\n",
       "      <td>55</td>\n",
       "    </tr>\n",
       "    <tr>\n",
       "      <th>14</th>\n",
       "      <td>O’Reilly’s top 20 live online training courses...</td>\n",
       "      <td></td>\n",
       "      <td>54</td>\n",
       "    </tr>\n",
       "    <tr>\n",
       "      <th>4</th>\n",
       "      <td>5 things on our data and AI radar for 2021</td>\n",
       "      <td></td>\n",
       "      <td>42</td>\n",
       "    </tr>\n",
       "    <tr>\n",
       "      <th>9</th>\n",
       "      <td>Seven Legal Questions for Data Scientists</td>\n",
       "      <td>Patrick Hall and Ayoub Ouederni</td>\n",
       "      <td>41</td>\n",
       "    </tr>\n",
       "    <tr>\n",
       "      <th>0</th>\n",
       "      <td>The End of Silicon Valley as We Know It?</td>\n",
       "      <td>Tim O’Reilly</td>\n",
       "      <td>40</td>\n",
       "    </tr>\n",
       "    <tr>\n",
       "      <th>36</th>\n",
       "      <td>AI Product Management After Deployment</td>\n",
       "      <td>Justin Norman and Mike Loukides</td>\n",
       "      <td>38</td>\n",
       "    </tr>\n",
       "    <tr>\n",
       "      <th>52</th>\n",
       "      <td>Radar trends to watch: September 2020</td>\n",
       "      <td>Mike Loukides</td>\n",
       "      <td>37</td>\n",
       "    </tr>\n",
       "    <tr>\n",
       "      <th>7</th>\n",
       "      <td>Radar trends to watch: February 2021</td>\n",
       "      <td>Mike Loukides</td>\n",
       "      <td>36</td>\n",
       "    </tr>\n",
       "    <tr>\n",
       "      <th>18</th>\n",
       "      <td>Radar trends to watch: December 2020</td>\n",
       "      <td>Mike Loukides</td>\n",
       "      <td>36</td>\n",
       "    </tr>\n",
       "    <tr>\n",
       "      <th>29</th>\n",
       "      <td>Radar trends to watch: November 2020</td>\n",
       "      <td>Mike Loukides</td>\n",
       "      <td>36</td>\n",
       "    </tr>\n",
       "    <tr>\n",
       "      <th>41</th>\n",
       "      <td>Radar trends to watch: October 2020</td>\n",
       "      <td>Mike Loukides</td>\n",
       "      <td>35</td>\n",
       "    </tr>\n",
       "    <tr>\n",
       "      <th>43</th>\n",
       "      <td>Four short links: 25 September 2020</td>\n",
       "      <td>Nat Torkington</td>\n",
       "      <td>35</td>\n",
       "    </tr>\n",
       "    <tr>\n",
       "      <th>11</th>\n",
       "      <td>Radar trends to watch: January 2021</td>\n",
       "      <td>Mike Loukides</td>\n",
       "      <td>35</td>\n",
       "    </tr>\n",
       "    <tr>\n",
       "      <th>50</th>\n",
       "      <td>Four short links: 4 September 2020</td>\n",
       "      <td>Nat Torkington</td>\n",
       "      <td>34</td>\n",
       "    </tr>\n",
       "    <tr>\n",
       "      <th>26</th>\n",
       "      <td>Four short links: 10 November 2020</td>\n",
       "      <td>Nat Torkington</td>\n",
       "      <td>34</td>\n",
       "    </tr>\n",
       "    <tr>\n",
       "      <th>51</th>\n",
       "      <td>Four short links: 2 September 2020</td>\n",
       "      <td>Nat Torkington</td>\n",
       "      <td>34</td>\n",
       "    </tr>\n",
       "    <tr>\n",
       "      <th>2</th>\n",
       "      <td>Radar trends to watch: March 2021</td>\n",
       "      <td>Mike Loukides</td>\n",
       "      <td>33</td>\n",
       "    </tr>\n",
       "    <tr>\n",
       "      <th>34</th>\n",
       "      <td>Four Short Links: 16 October 2020</td>\n",
       "      <td></td>\n",
       "      <td>33</td>\n",
       "    </tr>\n",
       "    <tr>\n",
       "      <th>55</th>\n",
       "      <td>Four short links: 25 August 2020</td>\n",
       "      <td>Nat Torkington</td>\n",
       "      <td>32</td>\n",
       "    </tr>\n",
       "    <tr>\n",
       "      <th>56</th>\n",
       "      <td>Four short links: 21 August 2020</td>\n",
       "      <td>Nat Torkington</td>\n",
       "      <td>32</td>\n",
       "    </tr>\n",
       "    <tr>\n",
       "      <th>57</th>\n",
       "      <td>Four Short Links: 19 August 2020</td>\n",
       "      <td>Nat Torkington</td>\n",
       "      <td>32</td>\n",
       "    </tr>\n",
       "    <tr>\n",
       "      <th>40</th>\n",
       "      <td>Four short links: 2 October 2020</td>\n",
       "      <td>Nat Torkington</td>\n",
       "      <td>32</td>\n",
       "    </tr>\n",
       "    <tr>\n",
       "      <th>39</th>\n",
       "      <td>Four short links: 6 October 2020</td>\n",
       "      <td>Nat Torkington</td>\n",
       "      <td>32</td>\n",
       "    </tr>\n",
       "    <tr>\n",
       "      <th>37</th>\n",
       "      <td>Four short links: 9 October 2020</td>\n",
       "      <td>Nat Torkington</td>\n",
       "      <td>32</td>\n",
       "    </tr>\n",
       "    <tr>\n",
       "      <th>53</th>\n",
       "      <td>Four short links: 28 August 2020</td>\n",
       "      <td>Nat Torkington</td>\n",
       "      <td>32</td>\n",
       "    </tr>\n",
       "    <tr>\n",
       "      <th>59</th>\n",
       "      <td>Four short links: 14 August 2020</td>\n",
       "      <td>Nat Torkington</td>\n",
       "      <td>32</td>\n",
       "    </tr>\n",
       "    <tr>\n",
       "      <th>22</th>\n",
       "      <td>On Exactitude in Technical Debt</td>\n",
       "      <td>Kevlin Henney</td>\n",
       "      <td>31</td>\n",
       "    </tr>\n",
       "    <tr>\n",
       "      <th>15</th>\n",
       "      <td>What is functional programming?</td>\n",
       "      <td>Mike Loukides</td>\n",
       "      <td>31</td>\n",
       "    </tr>\n",
       "    <tr>\n",
       "      <th>44</th>\n",
       "      <td>Four short links: 18 Sep 2020</td>\n",
       "      <td>Nat Torkington</td>\n",
       "      <td>29</td>\n",
       "    </tr>\n",
       "    <tr>\n",
       "      <th>12</th>\n",
       "      <td>Four short links: 14 Dec 2020</td>\n",
       "      <td>Nat Torkington</td>\n",
       "      <td>29</td>\n",
       "    </tr>\n",
       "    <tr>\n",
       "      <th>47</th>\n",
       "      <td>Four short links: 11 Sep 2020</td>\n",
       "      <td>Nat Torkington</td>\n",
       "      <td>29</td>\n",
       "    </tr>\n",
       "    <tr>\n",
       "      <th>45</th>\n",
       "      <td>Four short links: 16 Sep 2020</td>\n",
       "      <td>Nat Torkington</td>\n",
       "      <td>29</td>\n",
       "    </tr>\n",
       "    <tr>\n",
       "      <th>19</th>\n",
       "      <td>Four short links: 27 Nov 2020</td>\n",
       "      <td>Nat Torkington</td>\n",
       "      <td>29</td>\n",
       "    </tr>\n",
       "    <tr>\n",
       "      <th>42</th>\n",
       "      <td>Four short links: 29 Sep 2020</td>\n",
       "      <td>Nat Torkington</td>\n",
       "      <td>29</td>\n",
       "    </tr>\n",
       "    <tr>\n",
       "      <th>20</th>\n",
       "      <td>Four short links: 24 Nov 2020</td>\n",
       "      <td>Nat Torkington</td>\n",
       "      <td>29</td>\n",
       "    </tr>\n",
       "    <tr>\n",
       "      <th>21</th>\n",
       "      <td>Four short links: 20 Nov 2020</td>\n",
       "      <td>Nat Torkington</td>\n",
       "      <td>29</td>\n",
       "    </tr>\n",
       "    <tr>\n",
       "      <th>30</th>\n",
       "      <td>Four short links: 30 Oct 2020</td>\n",
       "      <td>Nat Torkington</td>\n",
       "      <td>29</td>\n",
       "    </tr>\n",
       "    <tr>\n",
       "      <th>31</th>\n",
       "      <td>Four short links: 28 Oct 2020</td>\n",
       "      <td>Nat Torkington</td>\n",
       "      <td>29</td>\n",
       "    </tr>\n",
       "    <tr>\n",
       "      <th>24</th>\n",
       "      <td>Four short links: 13 Nov 2020</td>\n",
       "      <td>Nat Torkington</td>\n",
       "      <td>29</td>\n",
       "    </tr>\n",
       "    <tr>\n",
       "      <th>35</th>\n",
       "      <td>Four short links: 14 Oct 2020</td>\n",
       "      <td>Nat Torkington</td>\n",
       "      <td>29</td>\n",
       "    </tr>\n",
       "    <tr>\n",
       "      <th>33</th>\n",
       "      <td>Four short links: 21 Oct 2020</td>\n",
       "      <td>Nat Torkington</td>\n",
       "      <td>29</td>\n",
       "    </tr>\n",
       "    <tr>\n",
       "      <th>23</th>\n",
       "      <td>Four short links: 17 Nov 2020</td>\n",
       "      <td>Nat Torkington</td>\n",
       "      <td>29</td>\n",
       "    </tr>\n",
       "    <tr>\n",
       "      <th>28</th>\n",
       "      <td>Four short links: 4 Nov 2020</td>\n",
       "      <td>Nat Torkington</td>\n",
       "      <td>28</td>\n",
       "    </tr>\n",
       "    <tr>\n",
       "      <th>27</th>\n",
       "      <td>Four short links: 6 Nov 2020</td>\n",
       "      <td>Nat Torkington</td>\n",
       "      <td>28</td>\n",
       "    </tr>\n",
       "    <tr>\n",
       "      <th>13</th>\n",
       "      <td>Four short links: 8 Dec 2020</td>\n",
       "      <td>Nat Torkington</td>\n",
       "      <td>28</td>\n",
       "    </tr>\n",
       "    <tr>\n",
       "      <th>48</th>\n",
       "      <td>Four short links: 9 Sep 2020</td>\n",
       "      <td>Nat Torkington</td>\n",
       "      <td>28</td>\n",
       "    </tr>\n",
       "    <tr>\n",
       "      <th>17</th>\n",
       "      <td>Four short links: 1 Dec 2020</td>\n",
       "      <td>Nat Torkington</td>\n",
       "      <td>28</td>\n",
       "    </tr>\n",
       "    <tr>\n",
       "      <th>16</th>\n",
       "      <td>Four short links: 4 Dec 2020</td>\n",
       "      <td>Nat Torkington</td>\n",
       "      <td>28</td>\n",
       "    </tr>\n",
       "    <tr>\n",
       "      <th>3</th>\n",
       "      <td>Product Management for AI</td>\n",
       "      <td>Mike Loukides</td>\n",
       "      <td>25</td>\n",
       "    </tr>\n",
       "    <tr>\n",
       "      <th>1</th>\n",
       "      <td>The Next Generation of AI</td>\n",
       "      <td>Mike Loukides</td>\n",
       "      <td>25</td>\n",
       "    </tr>\n",
       "    <tr>\n",
       "      <th>49</th>\n",
       "      <td>Pair Programming with AI</td>\n",
       "      <td>Mike Loukides</td>\n",
       "      <td>24</td>\n",
       "    </tr>\n",
       "    <tr>\n",
       "      <th>25</th>\n",
       "      <td>Multi-Paradigm Languages</td>\n",
       "      <td>Mike Loukides</td>\n",
       "      <td>24</td>\n",
       "    </tr>\n",
       "    <tr>\n",
       "      <th>32</th>\n",
       "      <td>Our Favorite Questions</td>\n",
       "      <td>Q Ethan McCallum, Chris Butler and Shane Glynn</td>\n",
       "      <td>22</td>\n",
       "    </tr>\n",
       "    <tr>\n",
       "      <th>46</th>\n",
       "      <td>How to Set AI Goals</td>\n",
       "      <td>Alex Castrounis</td>\n",
       "      <td>19</td>\n",
       "    </tr>\n",
       "    <tr>\n",
       "      <th>54</th>\n",
       "      <td>An Agent of Change</td>\n",
       "      <td>Q Ethan McCallum and Mike Loukides</td>\n",
       "      <td>18</td>\n",
       "    </tr>\n",
       "    <tr>\n",
       "      <th>6</th>\n",
       "      <td>The Wrong Question</td>\n",
       "      <td>Mike Loukides</td>\n",
       "      <td>18</td>\n",
       "    </tr>\n",
       "    <tr>\n",
       "      <th>38</th>\n",
       "      <td>AI and Creativity</td>\n",
       "      <td>Mike Loukides</td>\n",
       "      <td>17</td>\n",
       "    </tr>\n",
       "    <tr>\n",
       "      <th>10</th>\n",
       "      <td>Patterns</td>\n",
       "      <td>Mike Loukides</td>\n",
       "      <td>8</td>\n",
       "    </tr>\n",
       "  </tbody>\n",
       "</table>\n",
       "</div>"
      ],
      "text/plain": [
       "                                                title  \\\n",
       "58  Why Best-of-Breed is a Better Choice than All-...   \n",
       "8   Where Programming, Ops, AI, and the Cloud are ...   \n",
       "5   5 infrastructure and operations trends to watc...   \n",
       "14  O’Reilly’s top 20 live online training courses...   \n",
       "4          5 things on our data and AI radar for 2021   \n",
       "9           Seven Legal Questions for Data Scientists   \n",
       "0            The End of Silicon Valley as We Know It?   \n",
       "36             AI Product Management After Deployment   \n",
       "52              Radar trends to watch: September 2020   \n",
       "7                Radar trends to watch: February 2021   \n",
       "18               Radar trends to watch: December 2020   \n",
       "29               Radar trends to watch: November 2020   \n",
       "41                Radar trends to watch: October 2020   \n",
       "43                Four short links: 25 September 2020   \n",
       "11                Radar trends to watch: January 2021   \n",
       "50                 Four short links: 4 September 2020   \n",
       "26                 Four short links: 10 November 2020   \n",
       "51                 Four short links: 2 September 2020   \n",
       "2                   Radar trends to watch: March 2021   \n",
       "34                  Four Short Links: 16 October 2020   \n",
       "55                   Four short links: 25 August 2020   \n",
       "56                   Four short links: 21 August 2020   \n",
       "57                   Four Short Links: 19 August 2020   \n",
       "40                   Four short links: 2 October 2020   \n",
       "39                   Four short links: 6 October 2020   \n",
       "37                   Four short links: 9 October 2020   \n",
       "53                   Four short links: 28 August 2020   \n",
       "59                   Four short links: 14 August 2020   \n",
       "22                    On Exactitude in Technical Debt   \n",
       "15                    What is functional programming?   \n",
       "44                      Four short links: 18 Sep 2020   \n",
       "12                      Four short links: 14 Dec 2020   \n",
       "47                      Four short links: 11 Sep 2020   \n",
       "45                      Four short links: 16 Sep 2020   \n",
       "19                      Four short links: 27 Nov 2020   \n",
       "42                      Four short links: 29 Sep 2020   \n",
       "20                      Four short links: 24 Nov 2020   \n",
       "21                      Four short links: 20 Nov 2020   \n",
       "30                      Four short links: 30 Oct 2020   \n",
       "31                      Four short links: 28 Oct 2020   \n",
       "24                      Four short links: 13 Nov 2020   \n",
       "35                      Four short links: 14 Oct 2020   \n",
       "33                      Four short links: 21 Oct 2020   \n",
       "23                      Four short links: 17 Nov 2020   \n",
       "28                       Four short links: 4 Nov 2020   \n",
       "27                       Four short links: 6 Nov 2020   \n",
       "13                       Four short links: 8 Dec 2020   \n",
       "48                       Four short links: 9 Sep 2020   \n",
       "17                       Four short links: 1 Dec 2020   \n",
       "16                       Four short links: 4 Dec 2020   \n",
       "3                           Product Management for AI   \n",
       "1                           The Next Generation of AI   \n",
       "49                           Pair Programming with AI   \n",
       "25                           Multi-Paradigm Languages   \n",
       "32                             Our Favorite Questions   \n",
       "46                                How to Set AI Goals   \n",
       "54                                 An Agent of Change   \n",
       "6                                  The Wrong Question   \n",
       "38                                  AI and Creativity   \n",
       "10                                           Patterns   \n",
       "\n",
       "                                            author  Number of characters  \n",
       "58         Matthew Rocklin and Hugo Bowne-Anderson                    79  \n",
       "8                                    Mike Loukides                    60  \n",
       "5                                                                     55  \n",
       "14                                                                    54  \n",
       "4                                                                     42  \n",
       "9                  Patrick Hall and Ayoub Ouederni                    41  \n",
       "0                                     Tim O’Reilly                    40  \n",
       "36                 Justin Norman and Mike Loukides                    38  \n",
       "52                                   Mike Loukides                    37  \n",
       "7                                    Mike Loukides                    36  \n",
       "18                                   Mike Loukides                    36  \n",
       "29                                   Mike Loukides                    36  \n",
       "41                                   Mike Loukides                    35  \n",
       "43                                  Nat Torkington                    35  \n",
       "11                                   Mike Loukides                    35  \n",
       "50                                  Nat Torkington                    34  \n",
       "26                                  Nat Torkington                    34  \n",
       "51                                  Nat Torkington                    34  \n",
       "2                                    Mike Loukides                    33  \n",
       "34                                                                    33  \n",
       "55                                  Nat Torkington                    32  \n",
       "56                                  Nat Torkington                    32  \n",
       "57                                  Nat Torkington                    32  \n",
       "40                                  Nat Torkington                    32  \n",
       "39                                  Nat Torkington                    32  \n",
       "37                                  Nat Torkington                    32  \n",
       "53                                  Nat Torkington                    32  \n",
       "59                                  Nat Torkington                    32  \n",
       "22                                   Kevlin Henney                    31  \n",
       "15                                   Mike Loukides                    31  \n",
       "44                                  Nat Torkington                    29  \n",
       "12                                  Nat Torkington                    29  \n",
       "47                                  Nat Torkington                    29  \n",
       "45                                  Nat Torkington                    29  \n",
       "19                                  Nat Torkington                    29  \n",
       "42                                  Nat Torkington                    29  \n",
       "20                                  Nat Torkington                    29  \n",
       "21                                  Nat Torkington                    29  \n",
       "30                                  Nat Torkington                    29  \n",
       "31                                  Nat Torkington                    29  \n",
       "24                                  Nat Torkington                    29  \n",
       "35                                  Nat Torkington                    29  \n",
       "33                                  Nat Torkington                    29  \n",
       "23                                  Nat Torkington                    29  \n",
       "28                                  Nat Torkington                    28  \n",
       "27                                  Nat Torkington                    28  \n",
       "13                                  Nat Torkington                    28  \n",
       "48                                  Nat Torkington                    28  \n",
       "17                                  Nat Torkington                    28  \n",
       "16                                  Nat Torkington                    28  \n",
       "3                                    Mike Loukides                    25  \n",
       "1                                    Mike Loukides                    25  \n",
       "49                                   Mike Loukides                    24  \n",
       "25                                   Mike Loukides                    24  \n",
       "32  Q Ethan McCallum, Chris Butler and Shane Glynn                    22  \n",
       "46                                 Alex Castrounis                    19  \n",
       "54              Q Ethan McCallum and Mike Loukides                    18  \n",
       "6                                    Mike Loukides                    18  \n",
       "38                                   Mike Loukides                    17  \n",
       "10                                   Mike Loukides                     8  "
      ]
     },
     "execution_count": 77,
     "metadata": {},
     "output_type": "execute_result"
    }
   ],
   "source": [
    "df['Number of characters'] = df['title'].str.len()\n",
    "\n",
    "df[['title','author','Number of characters']].sort_values('Number of characters',ascending=False)"
   ]
  },
  {
   "cell_type": "markdown",
   "metadata": {},
   "source": [
    "### 12. Create a list of entry titles whose summary includes the phrase \"machine learning.\""
   ]
  },
  {
   "cell_type": "code",
   "execution_count": 103,
   "metadata": {},
   "outputs": [
    {
     "data": {
      "text/plain": [
       "9    Seven Legal Questions for Data Scientists\n",
       "Name: title, dtype: object"
      ]
     },
     "execution_count": 103,
     "metadata": {},
     "output_type": "execute_result"
    }
   ],
   "source": [
    "df[df[['summary']].apply( (lambda row: True if 'machine learning' in row['summary'] else False) ,  axis=1 )]['title']"
   ]
  }
 ],
 "metadata": {
  "kernelspec": {
   "display_name": "Python 3",
   "language": "python",
   "name": "python3"
  },
  "language_info": {
   "codemirror_mode": {
    "name": "ipython",
    "version": 3
   },
   "file_extension": ".py",
   "mimetype": "text/x-python",
   "name": "python",
   "nbconvert_exporter": "python",
   "pygments_lexer": "ipython3",
   "version": "3.8.5"
  },
  "toc": {
   "base_numbering": 1,
   "nav_menu": {},
   "number_sections": true,
   "sideBar": true,
   "skip_h1_title": false,
   "title_cell": "Table of Contents",
   "title_sidebar": "Contents",
   "toc_cell": false,
   "toc_position": {},
   "toc_section_display": true,
   "toc_window_display": false
  },
  "varInspector": {
   "cols": {
    "lenName": 16,
    "lenType": 16,
    "lenVar": 40
   },
   "kernels_config": {
    "python": {
     "delete_cmd_postfix": "",
     "delete_cmd_prefix": "del ",
     "library": "var_list.py",
     "varRefreshCmd": "print(var_dic_list())"
    },
    "r": {
     "delete_cmd_postfix": ") ",
     "delete_cmd_prefix": "rm(",
     "library": "var_list.r",
     "varRefreshCmd": "cat(var_dic_list()) "
    }
   },
   "types_to_exclude": [
    "module",
    "function",
    "builtin_function_or_method",
    "instance",
    "_Feature"
   ],
   "window_display": false
  }
 },
 "nbformat": 4,
 "nbformat_minor": 2
}
