{
 "cells": [
  {
   "cell_type": "markdown",
   "metadata": {},
   "source": [
    "# Working with RSS Feeds Lab\n",
    "\n",
    "Complete the following set of exercises to solidify your knowledge of parsing RSS feeds and extracting information from them."
   ]
  },
  {
   "cell_type": "code",
   "execution_count": 1,
   "metadata": {},
   "outputs": [],
   "source": [
    "import feedparser"
   ]
  },
  {
   "cell_type": "markdown",
   "metadata": {},
   "source": [
    "### 1. Use feedparser to parse the following RSS feed URL."
   ]
  },
  {
   "cell_type": "code",
   "execution_count": 2,
   "metadata": {},
   "outputs": [],
   "source": [
    "url = 'http://feeds.feedburner.com/oreilly/radar/atom'"
   ]
  },
  {
   "cell_type": "code",
   "execution_count": 3,
   "metadata": {},
   "outputs": [],
   "source": [
    "feedburner = feedparser.parse(url)"
   ]
  },
  {
   "cell_type": "markdown",
   "metadata": {},
   "source": [
    "### 2. Obtain a list of components (keys) that are available for this feed."
   ]
  },
  {
   "cell_type": "code",
   "execution_count": 4,
   "metadata": {},
   "outputs": [
    {
     "data": {
      "text/plain": [
       "dict_keys(['feed', 'entries', 'bozo', 'headers', 'etag', 'updated', 'updated_parsed', 'href', 'status', 'encoding', 'version', 'namespaces'])"
      ]
     },
     "execution_count": 4,
     "metadata": {},
     "output_type": "execute_result"
    }
   ],
   "source": [
    "feedburner.keys()"
   ]
  },
  {
   "cell_type": "markdown",
   "metadata": {},
   "source": [
    "### 3. Obtain a list of components (keys) that are available for the *feed* component of this RSS feed."
   ]
  },
  {
   "cell_type": "code",
   "execution_count": 5,
   "metadata": {},
   "outputs": [
    {
     "data": {
      "text/plain": [
       "dict_keys(['title', 'title_detail', 'links', 'link', 'subtitle', 'subtitle_detail', 'updated', 'updated_parsed', 'language', 'sy_updateperiod', 'sy_updatefrequency', 'generator_detail', 'generator', 'feedburner_info', 'geo_lat', 'geo_long', 'feedburner_emailserviceid', 'feedburner_feedburnerhostname'])"
      ]
     },
     "execution_count": 5,
     "metadata": {},
     "output_type": "execute_result"
    }
   ],
   "source": [
    "feedburner.feed.keys()"
   ]
  },
  {
   "cell_type": "markdown",
   "metadata": {},
   "source": [
    "### 4. Extract and print the feed title, subtitle, author, and link."
   ]
  },
  {
   "cell_type": "code",
   "execution_count": 6,
   "metadata": {},
   "outputs": [
    {
     "data": {
      "text/plain": [
       "{'title': 'Radar',\n",
       " 'subtitle': 'Now, next, and beyond: Tracking need-to-know trends at the intersection of business and technology',\n",
       " 'author': 'Nat Torkington',\n",
       " 'link': 'https://www.oreilly.com/radar'}"
      ]
     },
     "execution_count": 6,
     "metadata": {},
     "output_type": "execute_result"
    }
   ],
   "source": [
    "extract = {'title': feedburner.feed.title, \n",
    "           'subtitle': feedburner.feed.subtitle, \n",
    "           'author': feedburner.entries[0].author, \n",
    "           'link': feedburner.feed.link}\n",
    "\n",
    "extract"
   ]
  },
  {
   "cell_type": "markdown",
   "metadata": {},
   "source": [
    "### 5. Count the number of entries that are contained in this RSS feed."
   ]
  },
  {
   "cell_type": "code",
   "execution_count": 7,
   "metadata": {},
   "outputs": [
    {
     "data": {
      "text/plain": [
       "60"
      ]
     },
     "execution_count": 7,
     "metadata": {},
     "output_type": "execute_result"
    }
   ],
   "source": [
    "len(feedburner['entries'])"
   ]
  },
  {
   "cell_type": "markdown",
   "metadata": {},
   "source": [
    "### 6. Obtain a list of components (keys) available for an entry.\n",
    "\n",
    "*Hint: Remember to index first before requesting the keys*"
   ]
  },
  {
   "cell_type": "code",
   "execution_count": 8,
   "metadata": {},
   "outputs": [
    {
     "data": {
      "text/plain": [
       "dict_keys(['title', 'title_detail', 'links', 'link', 'comments', 'published', 'published_parsed', 'authors', 'author', 'author_detail', 'tags', 'id', 'guidislink', 'summary', 'summary_detail', 'content', 'wfw_commentrss', 'slash_comments', 'feedburner_origlink'])"
      ]
     },
     "execution_count": 8,
     "metadata": {},
     "output_type": "execute_result"
    }
   ],
   "source": [
    "feedburner.entries[0].keys()"
   ]
  },
  {
   "cell_type": "markdown",
   "metadata": {},
   "source": [
    "### 7. Extract a list of entry titles."
   ]
  },
  {
   "cell_type": "code",
   "execution_count": 9,
   "metadata": {},
   "outputs": [
    {
     "data": {
      "text/plain": [
       "['Four short links: 11 February 2020',\n",
       " 'Four short links: 10 February 2020',\n",
       " 'Four short links: 7 February 2020',\n",
       " 'Radar trends to watch: February 2020',\n",
       " 'Four short links: 6 February 2020',\n",
       " 'Four short links: 5 February 2020',\n",
       " 'Four short links: 4 February 2020',\n",
       " 'AI meets operations',\n",
       " 'Four short links: 3 February 2020',\n",
       " 'Four short links: 31 January 2020',\n",
       " 'Four short links: 30 January 2020',\n",
       " 'Four short links: 29 January 2020',\n",
       " 'Four short links: 28 January 2020',\n",
       " 'Four short links: 27 January 2020',\n",
       " 'Four short links: 24 January 2020',\n",
       " 'Four short links: 23 January 2020',\n",
       " 'Four short links: 22 January 2020',\n",
       " 'Four short links: 21 January 2020',\n",
       " 'Four short links: 20 January 2020',\n",
       " 'Four short links: 17 January 2020',\n",
       " 'Four short links: 16 January 2020',\n",
       " 'Reinforcement learning for the real world',\n",
       " 'Four short links: 15 January 2020',\n",
       " 'Four short links: 14 January 2020',\n",
       " 'Where programming languages are headed in 2020',\n",
       " 'Four short links: 13 January 2020',\n",
       " 'Four short links: 10 January 2020',\n",
       " 'Radar trends to watch: January 2020',\n",
       " 'Four short links: 9 January 2020',\n",
       " '9 additional books for the Next Economy',\n",
       " 'Four short links: 8 January 2020',\n",
       " '8 AI trends we’re watching in 2020',\n",
       " 'Four short links: 7 January 2020',\n",
       " 'Rethinking programming',\n",
       " 'Four short links: 6 January 2020',\n",
       " 'Four short links: 3 January 2020',\n",
       " 'Four short links: 2 January 2020',\n",
       " '10+ books for the Next Economy',\n",
       " 'Four short links: 1 January 2020',\n",
       " 'Four short links: 31 December 2019',\n",
       " 'Four short links: 30 December 2019',\n",
       " 'Four short links: 27 December 2019',\n",
       " 'Four short links: 26 December 2019',\n",
       " 'Four short links: 25 December 2019',\n",
       " 'Four short links: 24 December 2019',\n",
       " 'Four short links: 23 December 2019',\n",
       " 'Four short links: 20 December 2019',\n",
       " 'Four short links: 19 December 2019',\n",
       " 'AI is computer science disguised as hard work',\n",
       " 'Four short links: 18 December 2019',\n",
       " 'Four short links: 17 December 2019',\n",
       " '5 industries that demonstrate how blockchains go beyond finance',\n",
       " 'Four short links: 16 December 2019',\n",
       " 'Four short links: 13 December 2019',\n",
       " 'Why you should care about debugging machine learning models',\n",
       " 'Four short links: 12 December 2019',\n",
       " 'Four short links: 11 December 2019',\n",
       " 'The road to Software 2.0',\n",
       " 'Four short links: 10 December 2019',\n",
       " 'Four short links: 9 December 2019']"
      ]
     },
     "execution_count": 9,
     "metadata": {},
     "output_type": "execute_result"
    }
   ],
   "source": [
    "titles = [t.title for t in feedburner.entries]\n",
    "titles"
   ]
  },
  {
   "cell_type": "markdown",
   "metadata": {},
   "source": [
    "### 8. Calculate the percentage of \"Four short links\" entry titles."
   ]
  },
  {
   "cell_type": "code",
   "execution_count": 10,
   "metadata": {},
   "outputs": [
    {
     "data": {
      "text/plain": [
       "0.783"
      ]
     },
     "execution_count": 10,
     "metadata": {},
     "output_type": "execute_result"
    }
   ],
   "source": [
    "counter = 0\n",
    "for i in titles:\n",
    "    if i.startswith('Four short links'):\n",
    "        counter += 1\n",
    "\n",
    "percentage = counter / len(titles)\n",
    "round(percentage,3)"
   ]
  },
  {
   "cell_type": "markdown",
   "metadata": {},
   "source": [
    "### 9. Create a Pandas data frame from the feed's entries."
   ]
  },
  {
   "cell_type": "code",
   "execution_count": 11,
   "metadata": {},
   "outputs": [],
   "source": [
    "import pandas as pd"
   ]
  },
  {
   "cell_type": "code",
   "execution_count": 15,
   "metadata": {},
   "outputs": [
    {
     "name": "stdout",
     "output_type": "stream",
     "text": [
      "<class 'pandas.core.frame.DataFrame'>\n",
      "RangeIndex: 60 entries, 0 to 59\n",
      "Data columns (total 19 columns):\n",
      "title                  60 non-null object\n",
      "title_detail           60 non-null object\n",
      "links                  60 non-null object\n",
      "link                   60 non-null object\n",
      "comments               60 non-null object\n",
      "published              60 non-null object\n",
      "published_parsed       60 non-null object\n",
      "authors                60 non-null object\n",
      "author                 60 non-null object\n",
      "author_detail          58 non-null object\n",
      "tags                   60 non-null object\n",
      "id                     60 non-null object\n",
      "guidislink             60 non-null bool\n",
      "summary                60 non-null object\n",
      "summary_detail         60 non-null object\n",
      "content                60 non-null object\n",
      "wfw_commentrss         60 non-null object\n",
      "slash_comments         60 non-null object\n",
      "feedburner_origlink    60 non-null object\n",
      "dtypes: bool(1), object(18)\n",
      "memory usage: 8.6+ KB\n"
     ]
    }
   ],
   "source": [
    "data = pd.DataFrame(feedburner.entries)\n",
    "data.info()"
   ]
  },
  {
   "cell_type": "markdown",
   "metadata": {},
   "source": [
    "### 10. Count the number of entries per author and sort them in descending order."
   ]
  },
  {
   "cell_type": "code",
   "execution_count": 23,
   "metadata": {},
   "outputs": [
    {
     "data": {
      "text/html": [
       "<div>\n",
       "<style scoped>\n",
       "    .dataframe tbody tr th:only-of-type {\n",
       "        vertical-align: middle;\n",
       "    }\n",
       "\n",
       "    .dataframe tbody tr th {\n",
       "        vertical-align: top;\n",
       "    }\n",
       "\n",
       "    .dataframe thead th {\n",
       "        text-align: right;\n",
       "    }\n",
       "</style>\n",
       "<table border=\"1\" class=\"dataframe\">\n",
       "  <thead>\n",
       "    <tr style=\"text-align: right;\">\n",
       "      <th></th>\n",
       "      <th>authors</th>\n",
       "      <th>entries</th>\n",
       "    </tr>\n",
       "  </thead>\n",
       "  <tbody>\n",
       "    <tr>\n",
       "      <td>5</td>\n",
       "      <td>Nat Torkington</td>\n",
       "      <td>47</td>\n",
       "    </tr>\n",
       "    <tr>\n",
       "      <td>3</td>\n",
       "      <td>Mike Loukides</td>\n",
       "      <td>4</td>\n",
       "    </tr>\n",
       "    <tr>\n",
       "      <td>0</td>\n",
       "      <td></td>\n",
       "      <td>2</td>\n",
       "    </tr>\n",
       "    <tr>\n",
       "      <td>2</td>\n",
       "      <td>Jenn Webb</td>\n",
       "      <td>2</td>\n",
       "    </tr>\n",
       "    <tr>\n",
       "      <td>1</td>\n",
       "      <td>Alison McCauley</td>\n",
       "      <td>1</td>\n",
       "    </tr>\n",
       "    <tr>\n",
       "      <td>4</td>\n",
       "      <td>Mike Loukides and Ben Lorica</td>\n",
       "      <td>1</td>\n",
       "    </tr>\n",
       "    <tr>\n",
       "      <td>6</td>\n",
       "      <td>Patrick Hall and Andrew Burt</td>\n",
       "      <td>1</td>\n",
       "    </tr>\n",
       "    <tr>\n",
       "      <td>7</td>\n",
       "      <td>Roger Magoulas</td>\n",
       "      <td>1</td>\n",
       "    </tr>\n",
       "    <tr>\n",
       "      <td>8</td>\n",
       "      <td>Zan McQuade and Amanda Quinn</td>\n",
       "      <td>1</td>\n",
       "    </tr>\n",
       "  </tbody>\n",
       "</table>\n",
       "</div>"
      ],
      "text/plain": [
       "                        authors  entries\n",
       "5                Nat Torkington       47\n",
       "3                 Mike Loukides        4\n",
       "0                                      2\n",
       "2                     Jenn Webb        2\n",
       "1               Alison McCauley        1\n",
       "4  Mike Loukides and Ben Lorica        1\n",
       "6  Patrick Hall and Andrew Burt        1\n",
       "7                Roger Magoulas        1\n",
       "8  Zan McQuade and Amanda Quinn        1"
      ]
     },
     "execution_count": 23,
     "metadata": {},
     "output_type": "execute_result"
    }
   ],
   "source": [
    "#data = data.fillna('unknown')\n",
    "authors = data.groupby('author', as_index= False)['title'].count()\n",
    "authors.columns = ['authors', 'entries']\n",
    "authors.sort_values('entries', ascending=False)"
   ]
  },
  {
   "cell_type": "markdown",
   "metadata": {},
   "source": [
    "### 11. Add a new column to the data frame that contains the length (number of characters) of each entry title. Return a data frame that contains the title, author, and title length of each entry in descending order (longest title length at the top)."
   ]
  },
  {
   "cell_type": "code",
   "execution_count": 25,
   "metadata": {},
   "outputs": [
    {
     "data": {
      "text/html": [
       "<div>\n",
       "<style scoped>\n",
       "    .dataframe tbody tr th:only-of-type {\n",
       "        vertical-align: middle;\n",
       "    }\n",
       "\n",
       "    .dataframe tbody tr th {\n",
       "        vertical-align: top;\n",
       "    }\n",
       "\n",
       "    .dataframe thead th {\n",
       "        text-align: right;\n",
       "    }\n",
       "</style>\n",
       "<table border=\"1\" class=\"dataframe\">\n",
       "  <thead>\n",
       "    <tr style=\"text-align: right;\">\n",
       "      <th></th>\n",
       "      <th>title</th>\n",
       "      <th>author</th>\n",
       "      <th>title_lenght</th>\n",
       "    </tr>\n",
       "  </thead>\n",
       "  <tbody>\n",
       "    <tr>\n",
       "      <td>51</td>\n",
       "      <td>5 industries that demonstrate how blockchains ...</td>\n",
       "      <td>Alison McCauley</td>\n",
       "      <td>63</td>\n",
       "    </tr>\n",
       "    <tr>\n",
       "      <td>54</td>\n",
       "      <td>Why you should care about debugging machine le...</td>\n",
       "      <td>Patrick Hall and Andrew Burt</td>\n",
       "      <td>59</td>\n",
       "    </tr>\n",
       "    <tr>\n",
       "      <td>24</td>\n",
       "      <td>Where programming languages are headed in 2020</td>\n",
       "      <td>Zan McQuade and Amanda Quinn</td>\n",
       "      <td>46</td>\n",
       "    </tr>\n",
       "    <tr>\n",
       "      <td>48</td>\n",
       "      <td>AI is computer science disguised as hard work</td>\n",
       "      <td>Jenn Webb</td>\n",
       "      <td>45</td>\n",
       "    </tr>\n",
       "    <tr>\n",
       "      <td>21</td>\n",
       "      <td>Reinforcement learning for the real world</td>\n",
       "      <td>Jenn Webb</td>\n",
       "      <td>41</td>\n",
       "    </tr>\n",
       "  </tbody>\n",
       "</table>\n",
       "</div>"
      ],
      "text/plain": [
       "                                                title  \\\n",
       "51  5 industries that demonstrate how blockchains ...   \n",
       "54  Why you should care about debugging machine le...   \n",
       "24     Where programming languages are headed in 2020   \n",
       "48      AI is computer science disguised as hard work   \n",
       "21          Reinforcement learning for the real world   \n",
       "\n",
       "                          author  title_lenght  \n",
       "51               Alison McCauley            63  \n",
       "54  Patrick Hall and Andrew Burt            59  \n",
       "24  Zan McQuade and Amanda Quinn            46  \n",
       "48                     Jenn Webb            45  \n",
       "21                     Jenn Webb            41  "
      ]
     },
     "execution_count": 25,
     "metadata": {},
     "output_type": "execute_result"
    }
   ],
   "source": [
    "data['title_lenght'] = data['title'].apply(len)\n",
    "data[['title', 'author', 'title_lenght']].sort_values('title_lenght', ascending=False).head(5)"
   ]
  },
  {
   "cell_type": "markdown",
   "metadata": {},
   "source": [
    "### 12. Create a list of entry titles whose summary includes the phrase \"machine learning.\""
   ]
  },
  {
   "cell_type": "code",
   "execution_count": 27,
   "metadata": {},
   "outputs": [
    {
     "data": {
      "text/plain": [
       "['Four short links: 28 January 2020',\n",
       " 'Four short links: 13 January 2020',\n",
       " 'Why you should care about debugging machine learning models',\n",
       " 'The road to Software 2.0']"
      ]
     },
     "execution_count": 27,
     "metadata": {},
     "output_type": "execute_result"
    }
   ],
   "source": [
    "titles = data['title'][data['summary'].str.contains('machine learning')].tolist()\n",
    "titles"
   ]
  },
  {
   "cell_type": "code",
   "execution_count": null,
   "metadata": {},
   "outputs": [],
   "source": []
  }
 ],
 "metadata": {
  "kernelspec": {
   "display_name": "Python 3",
   "language": "python",
   "name": "python3"
  },
  "language_info": {
   "codemirror_mode": {
    "name": "ipython",
    "version": 3
   },
   "file_extension": ".py",
   "mimetype": "text/x-python",
   "name": "python",
   "nbconvert_exporter": "python",
   "pygments_lexer": "ipython3",
   "version": "3.7.4"
  }
 },
 "nbformat": 4,
 "nbformat_minor": 2
}
