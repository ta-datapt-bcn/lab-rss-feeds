{
 "cells": [
  {
   "cell_type": "markdown",
   "metadata": {},
   "source": [
    "# Working with RSS Feeds Lab\n",
    "\n",
    "Complete the following set of exercises to solidify your knowledge of parsing RSS feeds and extracting information from them."
   ]
  },
  {
   "cell_type": "code",
   "execution_count": 8,
   "metadata": {},
   "outputs": [],
   "source": [
    "import feedparser"
   ]
  },
  {
   "cell_type": "markdown",
   "metadata": {},
   "source": [
    "### 1. Use feedparser to parse the following RSS feed URL."
   ]
  },
  {
   "cell_type": "code",
   "execution_count": 14,
   "metadata": {},
   "outputs": [],
   "source": [
    "url = 'http://feeds.feedburner.com/oreilly/radar/atom'"
   ]
  },
  {
   "cell_type": "code",
   "execution_count": 15,
   "metadata": {},
   "outputs": [],
   "source": [
    "rss_parsed = feedparser.parse(url)"
   ]
  },
  {
   "cell_type": "markdown",
   "metadata": {},
   "source": [
    "### 2. Obtain a list of components (keys) that are available for this feed."
   ]
  },
  {
   "cell_type": "code",
   "execution_count": 19,
   "metadata": {},
   "outputs": [
    {
     "data": {
      "text/plain": [
       "['feed',\n",
       " 'entries',\n",
       " 'bozo',\n",
       " 'headers',\n",
       " 'etag',\n",
       " 'updated',\n",
       " 'updated_parsed',\n",
       " 'href',\n",
       " 'status',\n",
       " 'encoding',\n",
       " 'version',\n",
       " 'namespaces']"
      ]
     },
     "execution_count": 19,
     "metadata": {},
     "output_type": "execute_result"
    }
   ],
   "source": [
    "keys = [rss for rss in rss_parsed]\n",
    "keys"
   ]
  },
  {
   "cell_type": "markdown",
   "metadata": {},
   "source": [
    "### 3. Obtain a list of components (keys) that are available for the *feed* component of this RSS feed."
   ]
  },
  {
   "cell_type": "code",
   "execution_count": 23,
   "metadata": {},
   "outputs": [
    {
     "data": {
      "text/plain": [
       "['title',\n",
       " 'title_detail',\n",
       " 'links',\n",
       " 'link',\n",
       " 'subtitle',\n",
       " 'subtitle_detail',\n",
       " 'updated',\n",
       " 'updated_parsed',\n",
       " 'language',\n",
       " 'sy_updateperiod',\n",
       " 'sy_updatefrequency',\n",
       " 'generator_detail',\n",
       " 'generator',\n",
       " 'feedburner_info',\n",
       " 'geo_lat',\n",
       " 'geo_long',\n",
       " 'feedburner_emailserviceid',\n",
       " 'feedburner_feedburnerhostname']"
      ]
     },
     "execution_count": 23,
     "metadata": {},
     "output_type": "execute_result"
    }
   ],
   "source": [
    "keys_parsed = [rss for rss in rss_parsed[\"feed\"]]\n",
    "keys_parsed"
   ]
  },
  {
   "cell_type": "markdown",
   "metadata": {},
   "source": [
    "### 4. Extract and print the feed title, subtitle, author, and link."
   ]
  },
  {
   "cell_type": "code",
   "execution_count": 29,
   "metadata": {},
   "outputs": [
    {
     "name": "stdout",
     "output_type": "stream",
     "text": [
      "Radar\n",
      "Now, next, and beyond: Tracking need-to-know trends at the intersection of business and technology\n",
      "https://www.oreilly.com/radar\n"
     ]
    }
   ],
   "source": [
    "title = rss_parsed[\"feed\"][\"title\"]\n",
    "subtitle = rss_parsed[\"feed\"][\"subtitle\"]\n",
    "link = rss_parsed[\"feed\"][\"link\"]\n",
    "\n",
    "print(title)\n",
    "print(subtitle)\n",
    "print(link)"
   ]
  },
  {
   "cell_type": "markdown",
   "metadata": {},
   "source": [
    "### 5. Count the number of entries that are contained in this RSS feed."
   ]
  },
  {
   "cell_type": "code",
   "execution_count": 31,
   "metadata": {},
   "outputs": [
    {
     "data": {
      "text/plain": [
       "12"
      ]
     },
     "execution_count": 31,
     "metadata": {},
     "output_type": "execute_result"
    }
   ],
   "source": [
    "len(rss_parsed)"
   ]
  },
  {
   "cell_type": "markdown",
   "metadata": {},
   "source": [
    "### 6. Obtain a list of components (keys) available for an entry.\n",
    "\n",
    "*Hint: Remember to index first before requesting the keys*"
   ]
  },
  {
   "cell_type": "code",
   "execution_count": 33,
   "metadata": {},
   "outputs": [
    {
     "data": {
      "text/plain": [
       "['title',\n",
       " 'title_detail',\n",
       " 'links',\n",
       " 'link',\n",
       " 'comments',\n",
       " 'published',\n",
       " 'published_parsed',\n",
       " 'authors',\n",
       " 'author',\n",
       " 'author_detail',\n",
       " 'tags',\n",
       " 'id',\n",
       " 'guidislink',\n",
       " 'summary',\n",
       " 'summary_detail',\n",
       " 'content',\n",
       " 'wfw_commentrss',\n",
       " 'slash_comments',\n",
       " 'feedburner_origlink']"
      ]
     },
     "execution_count": 33,
     "metadata": {},
     "output_type": "execute_result"
    }
   ],
   "source": [
    "keys_entries = [rss for rss in rss_parsed[\"entries\"][0]]\n",
    "keys_entries"
   ]
  },
  {
   "cell_type": "markdown",
   "metadata": {},
   "source": [
    "### 7. Extract a list of entry titles."
   ]
  },
  {
   "cell_type": "code",
   "execution_count": 36,
   "metadata": {},
   "outputs": [
    {
     "data": {
      "text/plain": [
       "['Four short links: 14 February 2020',\n",
       " 'Four short links: 13 February 2020',\n",
       " 'The state of data quality in 2020',\n",
       " 'Four short links: 12 February 2020',\n",
       " 'Four short links: 11 February 2020',\n",
       " 'Four short links: 10 February 2020',\n",
       " 'Four short links: 7 February 2020',\n",
       " 'Radar trends to watch: February 2020',\n",
       " 'Four short links: 6 February 2020',\n",
       " 'Four short links: 5 February 2020',\n",
       " 'Four short links: 4 February 2020',\n",
       " 'AI meets operations',\n",
       " 'Four short links: 3 February 2020',\n",
       " 'Four short links: 31 January 2020',\n",
       " 'Four short links: 30 January 2020',\n",
       " 'Four short links: 29 January 2020',\n",
       " 'Four short links: 28 January 2020',\n",
       " 'Four short links: 27 January 2020',\n",
       " 'Four short links: 24 January 2020',\n",
       " 'Four short links: 23 January 2020',\n",
       " 'Four short links: 22 January 2020',\n",
       " 'Four short links: 21 January 2020',\n",
       " 'Four short links: 20 January 2020',\n",
       " 'Four short links: 17 January 2020',\n",
       " 'Four short links: 16 January 2020',\n",
       " 'Reinforcement learning for the real world',\n",
       " 'Four short links: 15 January 2020',\n",
       " 'Four short links: 14 January 2020',\n",
       " 'Where programming languages are headed in 2020',\n",
       " 'Four short links: 13 January 2020',\n",
       " 'Four short links: 10 January 2020',\n",
       " 'Radar trends to watch: January 2020',\n",
       " 'Four short links: 9 January 2020',\n",
       " '9 additional books for the Next Economy',\n",
       " 'Four short links: 8 January 2020',\n",
       " '8 AI trends we’re watching in 2020',\n",
       " 'Four short links: 7 January 2020',\n",
       " 'Rethinking programming',\n",
       " 'Four short links: 6 January 2020',\n",
       " 'Four short links: 3 January 2020',\n",
       " 'Four short links: 2 January 2020',\n",
       " '10+ books for the Next Economy',\n",
       " 'Four short links: 1 January 2020',\n",
       " 'Four short links: 31 December 2019',\n",
       " 'Four short links: 30 December 2019',\n",
       " 'Four short links: 27 December 2019',\n",
       " 'Four short links: 26 December 2019',\n",
       " 'Four short links: 25 December 2019',\n",
       " 'Four short links: 24 December 2019',\n",
       " 'Four short links: 23 December 2019',\n",
       " 'Four short links: 20 December 2019',\n",
       " 'Four short links: 19 December 2019',\n",
       " 'AI is computer science disguised as hard work',\n",
       " 'Four short links: 18 December 2019',\n",
       " 'Four short links: 17 December 2019',\n",
       " '5 industries that demonstrate how blockchains go beyond finance',\n",
       " 'Four short links: 16 December 2019',\n",
       " 'Four short links: 13 December 2019',\n",
       " 'Why you should care about debugging machine learning models',\n",
       " 'Four short links: 12 December 2019']"
      ]
     },
     "execution_count": 36,
     "metadata": {},
     "output_type": "execute_result"
    }
   ],
   "source": [
    "title_entries = [rss[\"title\"] for rss in rss_parsed[\"entries\"]]\n",
    "title_entries"
   ]
  },
  {
   "cell_type": "markdown",
   "metadata": {},
   "source": [
    "### 8. Calculate the percentage of \"Four short links\" entry titles."
   ]
  },
  {
   "cell_type": "code",
   "execution_count": 57,
   "metadata": {},
   "outputs": [
    {
     "name": "stdout",
     "output_type": "stream",
     "text": [
      "Percentage of 'Four short links' is: 78.33333333333333\n"
     ]
    }
   ],
   "source": [
    "title_entries = [rss[\"title\"] for rss in rss_parsed[\"entries\"]]\n",
    "\n",
    "four_short_entries = []\n",
    "for title in title_entries:\n",
    "    if title.startswith(\"Four short links\"):\n",
    "        four_short_entries.append(title)\n",
    "\n",
    "print(f\"Percentage of 'Four short links' is: {(len(four_short_entries) * 100) / len(title_entries)}\")"
   ]
  },
  {
   "cell_type": "markdown",
   "metadata": {},
   "source": [
    "### 9. Create a Pandas data frame from the feed's entries."
   ]
  },
  {
   "cell_type": "code",
   "execution_count": 47,
   "metadata": {},
   "outputs": [],
   "source": [
    "import pandas as pd"
   ]
  },
  {
   "cell_type": "code",
   "execution_count": 50,
   "metadata": {},
   "outputs": [
    {
     "data": {
      "text/html": [
       "<div>\n",
       "<style scoped>\n",
       "    .dataframe tbody tr th:only-of-type {\n",
       "        vertical-align: middle;\n",
       "    }\n",
       "\n",
       "    .dataframe tbody tr th {\n",
       "        vertical-align: top;\n",
       "    }\n",
       "\n",
       "    .dataframe thead th {\n",
       "        text-align: right;\n",
       "    }\n",
       "</style>\n",
       "<table border=\"1\" class=\"dataframe\">\n",
       "  <thead>\n",
       "    <tr style=\"text-align: right;\">\n",
       "      <th></th>\n",
       "      <th>title</th>\n",
       "      <th>title_detail</th>\n",
       "      <th>links</th>\n",
       "      <th>link</th>\n",
       "      <th>comments</th>\n",
       "      <th>published</th>\n",
       "      <th>published_parsed</th>\n",
       "      <th>authors</th>\n",
       "      <th>author</th>\n",
       "      <th>author_detail</th>\n",
       "      <th>tags</th>\n",
       "      <th>id</th>\n",
       "      <th>guidislink</th>\n",
       "      <th>summary</th>\n",
       "      <th>summary_detail</th>\n",
       "      <th>content</th>\n",
       "      <th>wfw_commentrss</th>\n",
       "      <th>slash_comments</th>\n",
       "      <th>feedburner_origlink</th>\n",
       "    </tr>\n",
       "  </thead>\n",
       "  <tbody>\n",
       "    <tr>\n",
       "      <td>0</td>\n",
       "      <td>Four short links: 14 February 2020</td>\n",
       "      <td>{'type': 'text/plain', 'language': None, 'base...</td>\n",
       "      <td>[{'rel': 'alternate', 'type': 'text/html', 'hr...</td>\n",
       "      <td>http://feedproxy.google.com/~r/oreilly/radar/a...</td>\n",
       "      <td>https://www.oreilly.com/radar/four-short-links...</td>\n",
       "      <td>Fri, 14 Feb 2020 05:01:00 +0000</td>\n",
       "      <td>(2020, 2, 14, 5, 1, 0, 4, 45, 0)</td>\n",
       "      <td>[{'name': 'Nat Torkington'}]</td>\n",
       "      <td>Nat Torkington</td>\n",
       "      <td>{'name': 'Nat Torkington'}</td>\n",
       "      <td>[{'term': 'Four Short Links', 'scheme': None, ...</td>\n",
       "      <td>https://www.oreilly.com/radar/?p=11959</td>\n",
       "      <td>False</td>\n",
       "      <td>ABD &amp;#8212; Course materials for Advanced Bina...</td>\n",
       "      <td>{'type': 'text/html', 'language': None, 'base'...</td>\n",
       "      <td>[{'type': 'text/html', 'language': None, 'base...</td>\n",
       "      <td>https://www.oreilly.com/radar/four-short-links...</td>\n",
       "      <td>0</td>\n",
       "      <td>https://www.oreilly.com/radar/four-short-links...</td>\n",
       "    </tr>\n",
       "    <tr>\n",
       "      <td>1</td>\n",
       "      <td>Four short links: 13 February 2020</td>\n",
       "      <td>{'type': 'text/plain', 'language': None, 'base...</td>\n",
       "      <td>[{'rel': 'alternate', 'type': 'text/html', 'hr...</td>\n",
       "      <td>http://feedproxy.google.com/~r/oreilly/radar/a...</td>\n",
       "      <td>https://www.oreilly.com/radar/four-short-links...</td>\n",
       "      <td>Thu, 13 Feb 2020 05:01:00 +0000</td>\n",
       "      <td>(2020, 2, 13, 5, 1, 0, 3, 44, 0)</td>\n",
       "      <td>[{'name': 'Nat Torkington'}]</td>\n",
       "      <td>Nat Torkington</td>\n",
       "      <td>{'name': 'Nat Torkington'}</td>\n",
       "      <td>[{'term': 'Four Short Links', 'scheme': None, ...</td>\n",
       "      <td>https://www.oreilly.com/radar/?p=11952</td>\n",
       "      <td>False</td>\n",
       "      <td>Ofcom To Regulate UK Internet &amp;#8212; The regu...</td>\n",
       "      <td>{'type': 'text/html', 'language': None, 'base'...</td>\n",
       "      <td>[{'type': 'text/html', 'language': None, 'base...</td>\n",
       "      <td>https://www.oreilly.com/radar/four-short-links...</td>\n",
       "      <td>0</td>\n",
       "      <td>https://www.oreilly.com/radar/four-short-links...</td>\n",
       "    </tr>\n",
       "    <tr>\n",
       "      <td>2</td>\n",
       "      <td>The state of data quality in 2020</td>\n",
       "      <td>{'type': 'text/plain', 'language': None, 'base...</td>\n",
       "      <td>[{'rel': 'alternate', 'type': 'text/html', 'hr...</td>\n",
       "      <td>http://feedproxy.google.com/~r/oreilly/radar/a...</td>\n",
       "      <td>https://www.oreilly.com/radar/the-state-of-dat...</td>\n",
       "      <td>Wed, 12 Feb 2020 06:00:00 +0000</td>\n",
       "      <td>(2020, 2, 12, 6, 0, 0, 2, 43, 0)</td>\n",
       "      <td>[{'name': 'Roger Magoulas and Steve Swoyer'}]</td>\n",
       "      <td>Roger Magoulas and Steve Swoyer</td>\n",
       "      <td>{'name': 'Roger Magoulas and Steve Swoyer'}</td>\n",
       "      <td>[{'term': 'AI &amp; ML', 'scheme': None, 'label': ...</td>\n",
       "      <td>https://www.oreilly.com/radar/?p=11549</td>\n",
       "      <td>False</td>\n",
       "      <td>We suspected that data quality was a topic bri...</td>\n",
       "      <td>{'type': 'text/html', 'language': None, 'base'...</td>\n",
       "      <td>[{'type': 'text/html', 'language': None, 'base...</td>\n",
       "      <td>https://www.oreilly.com/radar/the-state-of-dat...</td>\n",
       "      <td>0</td>\n",
       "      <td>https://www.oreilly.com/radar/the-state-of-dat...</td>\n",
       "    </tr>\n",
       "    <tr>\n",
       "      <td>3</td>\n",
       "      <td>Four short links: 12 February 2020</td>\n",
       "      <td>{'type': 'text/plain', 'language': None, 'base...</td>\n",
       "      <td>[{'rel': 'alternate', 'type': 'text/html', 'hr...</td>\n",
       "      <td>http://feedproxy.google.com/~r/oreilly/radar/a...</td>\n",
       "      <td>https://www.oreilly.com/radar/four-short-links...</td>\n",
       "      <td>Wed, 12 Feb 2020 05:01:00 +0000</td>\n",
       "      <td>(2020, 2, 12, 5, 1, 0, 2, 43, 0)</td>\n",
       "      <td>[{'name': 'Nat Torkington'}]</td>\n",
       "      <td>Nat Torkington</td>\n",
       "      <td>{'name': 'Nat Torkington'}</td>\n",
       "      <td>[{'term': 'Four Short Links', 'scheme': None, ...</td>\n",
       "      <td>https://www.oreilly.com/radar/?p=11936</td>\n",
       "      <td>False</td>\n",
       "      <td>Drafting an Engineering Strategy (Mathias Meye...</td>\n",
       "      <td>{'type': 'text/html', 'language': None, 'base'...</td>\n",
       "      <td>[{'type': 'text/html', 'language': None, 'base...</td>\n",
       "      <td>https://www.oreilly.com/radar/four-short-links...</td>\n",
       "      <td>0</td>\n",
       "      <td>https://www.oreilly.com/radar/four-short-links...</td>\n",
       "    </tr>\n",
       "    <tr>\n",
       "      <td>4</td>\n",
       "      <td>Four short links: 11 February 2020</td>\n",
       "      <td>{'type': 'text/plain', 'language': None, 'base...</td>\n",
       "      <td>[{'rel': 'alternate', 'type': 'text/html', 'hr...</td>\n",
       "      <td>http://feedproxy.google.com/~r/oreilly/radar/a...</td>\n",
       "      <td>https://www.oreilly.com/radar/four-short-links...</td>\n",
       "      <td>Tue, 11 Feb 2020 05:01:00 +0000</td>\n",
       "      <td>(2020, 2, 11, 5, 1, 0, 1, 42, 0)</td>\n",
       "      <td>[{'name': 'Nat Torkington'}]</td>\n",
       "      <td>Nat Torkington</td>\n",
       "      <td>{'name': 'Nat Torkington'}</td>\n",
       "      <td>[{'term': 'Four Short Links', 'scheme': None, ...</td>\n",
       "      <td>https://www.oreilly.com/radar/?p=11773</td>\n",
       "      <td>False</td>\n",
       "      <td>The Fate of Empires &amp;#8212; 1977 text summariz...</td>\n",
       "      <td>{'type': 'text/html', 'language': None, 'base'...</td>\n",
       "      <td>[{'type': 'text/html', 'language': None, 'base...</td>\n",
       "      <td>https://www.oreilly.com/radar/four-short-links...</td>\n",
       "      <td>0</td>\n",
       "      <td>https://www.oreilly.com/radar/four-short-links...</td>\n",
       "    </tr>\n",
       "  </tbody>\n",
       "</table>\n",
       "</div>"
      ],
      "text/plain": [
       "                                title  \\\n",
       "0  Four short links: 14 February 2020   \n",
       "1  Four short links: 13 February 2020   \n",
       "2   The state of data quality in 2020   \n",
       "3  Four short links: 12 February 2020   \n",
       "4  Four short links: 11 February 2020   \n",
       "\n",
       "                                        title_detail  \\\n",
       "0  {'type': 'text/plain', 'language': None, 'base...   \n",
       "1  {'type': 'text/plain', 'language': None, 'base...   \n",
       "2  {'type': 'text/plain', 'language': None, 'base...   \n",
       "3  {'type': 'text/plain', 'language': None, 'base...   \n",
       "4  {'type': 'text/plain', 'language': None, 'base...   \n",
       "\n",
       "                                               links  \\\n",
       "0  [{'rel': 'alternate', 'type': 'text/html', 'hr...   \n",
       "1  [{'rel': 'alternate', 'type': 'text/html', 'hr...   \n",
       "2  [{'rel': 'alternate', 'type': 'text/html', 'hr...   \n",
       "3  [{'rel': 'alternate', 'type': 'text/html', 'hr...   \n",
       "4  [{'rel': 'alternate', 'type': 'text/html', 'hr...   \n",
       "\n",
       "                                                link  \\\n",
       "0  http://feedproxy.google.com/~r/oreilly/radar/a...   \n",
       "1  http://feedproxy.google.com/~r/oreilly/radar/a...   \n",
       "2  http://feedproxy.google.com/~r/oreilly/radar/a...   \n",
       "3  http://feedproxy.google.com/~r/oreilly/radar/a...   \n",
       "4  http://feedproxy.google.com/~r/oreilly/radar/a...   \n",
       "\n",
       "                                            comments  \\\n",
       "0  https://www.oreilly.com/radar/four-short-links...   \n",
       "1  https://www.oreilly.com/radar/four-short-links...   \n",
       "2  https://www.oreilly.com/radar/the-state-of-dat...   \n",
       "3  https://www.oreilly.com/radar/four-short-links...   \n",
       "4  https://www.oreilly.com/radar/four-short-links...   \n",
       "\n",
       "                         published                  published_parsed  \\\n",
       "0  Fri, 14 Feb 2020 05:01:00 +0000  (2020, 2, 14, 5, 1, 0, 4, 45, 0)   \n",
       "1  Thu, 13 Feb 2020 05:01:00 +0000  (2020, 2, 13, 5, 1, 0, 3, 44, 0)   \n",
       "2  Wed, 12 Feb 2020 06:00:00 +0000  (2020, 2, 12, 6, 0, 0, 2, 43, 0)   \n",
       "3  Wed, 12 Feb 2020 05:01:00 +0000  (2020, 2, 12, 5, 1, 0, 2, 43, 0)   \n",
       "4  Tue, 11 Feb 2020 05:01:00 +0000  (2020, 2, 11, 5, 1, 0, 1, 42, 0)   \n",
       "\n",
       "                                         authors  \\\n",
       "0                   [{'name': 'Nat Torkington'}]   \n",
       "1                   [{'name': 'Nat Torkington'}]   \n",
       "2  [{'name': 'Roger Magoulas and Steve Swoyer'}]   \n",
       "3                   [{'name': 'Nat Torkington'}]   \n",
       "4                   [{'name': 'Nat Torkington'}]   \n",
       "\n",
       "                            author  \\\n",
       "0                   Nat Torkington   \n",
       "1                   Nat Torkington   \n",
       "2  Roger Magoulas and Steve Swoyer   \n",
       "3                   Nat Torkington   \n",
       "4                   Nat Torkington   \n",
       "\n",
       "                                 author_detail  \\\n",
       "0                   {'name': 'Nat Torkington'}   \n",
       "1                   {'name': 'Nat Torkington'}   \n",
       "2  {'name': 'Roger Magoulas and Steve Swoyer'}   \n",
       "3                   {'name': 'Nat Torkington'}   \n",
       "4                   {'name': 'Nat Torkington'}   \n",
       "\n",
       "                                                tags  \\\n",
       "0  [{'term': 'Four Short Links', 'scheme': None, ...   \n",
       "1  [{'term': 'Four Short Links', 'scheme': None, ...   \n",
       "2  [{'term': 'AI & ML', 'scheme': None, 'label': ...   \n",
       "3  [{'term': 'Four Short Links', 'scheme': None, ...   \n",
       "4  [{'term': 'Four Short Links', 'scheme': None, ...   \n",
       "\n",
       "                                       id  guidislink  \\\n",
       "0  https://www.oreilly.com/radar/?p=11959       False   \n",
       "1  https://www.oreilly.com/radar/?p=11952       False   \n",
       "2  https://www.oreilly.com/radar/?p=11549       False   \n",
       "3  https://www.oreilly.com/radar/?p=11936       False   \n",
       "4  https://www.oreilly.com/radar/?p=11773       False   \n",
       "\n",
       "                                             summary  \\\n",
       "0  ABD &#8212; Course materials for Advanced Bina...   \n",
       "1  Ofcom To Regulate UK Internet &#8212; The regu...   \n",
       "2  We suspected that data quality was a topic bri...   \n",
       "3  Drafting an Engineering Strategy (Mathias Meye...   \n",
       "4  The Fate of Empires &#8212; 1977 text summariz...   \n",
       "\n",
       "                                      summary_detail  \\\n",
       "0  {'type': 'text/html', 'language': None, 'base'...   \n",
       "1  {'type': 'text/html', 'language': None, 'base'...   \n",
       "2  {'type': 'text/html', 'language': None, 'base'...   \n",
       "3  {'type': 'text/html', 'language': None, 'base'...   \n",
       "4  {'type': 'text/html', 'language': None, 'base'...   \n",
       "\n",
       "                                             content  \\\n",
       "0  [{'type': 'text/html', 'language': None, 'base...   \n",
       "1  [{'type': 'text/html', 'language': None, 'base...   \n",
       "2  [{'type': 'text/html', 'language': None, 'base...   \n",
       "3  [{'type': 'text/html', 'language': None, 'base...   \n",
       "4  [{'type': 'text/html', 'language': None, 'base...   \n",
       "\n",
       "                                      wfw_commentrss slash_comments  \\\n",
       "0  https://www.oreilly.com/radar/four-short-links...              0   \n",
       "1  https://www.oreilly.com/radar/four-short-links...              0   \n",
       "2  https://www.oreilly.com/radar/the-state-of-dat...              0   \n",
       "3  https://www.oreilly.com/radar/four-short-links...              0   \n",
       "4  https://www.oreilly.com/radar/four-short-links...              0   \n",
       "\n",
       "                                 feedburner_origlink  \n",
       "0  https://www.oreilly.com/radar/four-short-links...  \n",
       "1  https://www.oreilly.com/radar/four-short-links...  \n",
       "2  https://www.oreilly.com/radar/the-state-of-dat...  \n",
       "3  https://www.oreilly.com/radar/four-short-links...  \n",
       "4  https://www.oreilly.com/radar/four-short-links...  "
      ]
     },
     "execution_count": 50,
     "metadata": {},
     "output_type": "execute_result"
    }
   ],
   "source": [
    "entries = [rss for rss in rss_parsed[\"entries\"]]\n",
    "feed_entries_df = pd.DataFrame(entries)\n",
    "feed_entries_df.head()"
   ]
  },
  {
   "cell_type": "markdown",
   "metadata": {},
   "source": [
    "### 10. Count the number of entries per author and sort them in descending order."
   ]
  },
  {
   "cell_type": "code",
   "execution_count": 80,
   "metadata": {},
   "outputs": [
    {
     "data": {
      "text/plain": [
       "author\n",
       "Nat Torkington                     47\n",
       "Roger Magoulas and Steve Swoyer     1\n",
       "Mike Loukides                       4\n",
       "Jenn Webb                           2\n",
       "Zan McQuade and Amanda Quinn        1\n",
       "                                    2\n",
       "Roger Magoulas                      1\n",
       "Alison McCauley                     1\n",
       "Patrick Hall and Andrew Burt        1\n",
       "dtype: int64"
      ]
     },
     "execution_count": 80,
     "metadata": {},
     "output_type": "execute_result"
    }
   ],
   "source": [
    "df_by_author = feed_entries_df.groupby(['author'], sort=False).size()\n",
    "df_by_author.head(10)"
   ]
  },
  {
   "cell_type": "markdown",
   "metadata": {},
   "source": [
    "### 11. Add a new column to the data frame that contains the length (number of characters) of each entry title. Return a data frame that contains the title, author, and title length of each entry in descending order (longest title length at the top)."
   ]
  },
  {
   "cell_type": "code",
   "execution_count": 81,
   "metadata": {},
   "outputs": [
    {
     "name": "stderr",
     "output_type": "stream",
     "text": [
      "/Users/koide/opt/anaconda3/lib/python3.7/site-packages/ipykernel_launcher.py:3: SettingWithCopyWarning: \n",
      "A value is trying to be set on a copy of a slice from a DataFrame.\n",
      "Try using .loc[row_indexer,col_indexer] = value instead\n",
      "\n",
      "See the caveats in the documentation: http://pandas.pydata.org/pandas-docs/stable/user_guide/indexing.html#returning-a-view-versus-a-copy\n",
      "  This is separate from the ipykernel package so we can avoid doing imports until\n"
     ]
    }
   ],
   "source": [
    "length_df = [len(title) for title in new_df[\"title\"]]\n",
    "new_df = feed_entries_df[[\"title\", \"author\"]]\n",
    "new_df['title length'] = pd.Series(length_df)"
   ]
  },
  {
   "cell_type": "markdown",
   "metadata": {},
   "source": [
    "### 12. Create a list of entry titles whose summary includes the phrase \"machine learning.\""
   ]
  },
  {
   "cell_type": "code",
   "execution_count": 87,
   "metadata": {},
   "outputs": [
    {
     "data": {
      "text/plain": [
       "['Ofcom To Regulate UK Internet &#8212; The regulator will play a key role in enforcing a statutory duty of care to protect users from harmful and illegal terrorist and child abuse content. Turing &#8212; Julia library for fast machine learning. The Effects of Prize Structures on Innovative Performance &#8212; We find that a winner-takes-all compensation [&#8230;]',\n",
       " 'TinyML Book &#8212; machine learning for embedded systems, an O&#8217;Reilly book by Pete Warden and Daniel Sityunake. Useful Probability for Systems Programmers &#8212; interesting findings like: If you have 1N chance of success, then you’re more likely than not to have succeeded after N tries, but the probability is only about two thirds. Cost of [&#8230;]',\n",
       " 'Simulated Customer &#8212; The site will randomly generate one of 40 different [sales] objections, and give you 20 seconds to answer it. From Shallow to Deep Interactions Between Knowledge Representation, Reasoning, and Machine Learning &#8212; This paper proposes a tentative and original survey of meeting points between knowledge representation and reasoning (KRR) and machine learning [&#8230;]',\n",
       " 'For all the excitement about machine learning (ML), there are serious impediments to its widespread adoption. Not least is the broadening realization that ML models can fail. And that’s why model debugging, the art and science of understanding and fixing problems in ML models, is so critical to the future of ML. Without being able [&#8230;]']"
      ]
     },
     "execution_count": 87,
     "metadata": {},
     "output_type": "execute_result"
    }
   ],
   "source": [
    "title_entries = [rss[\"summary\"] for rss in rss_parsed[\"entries\"]]\n",
    "\n",
    "ml_summary_entries = []\n",
    "for title in title_entries:\n",
    "    if title.count(\"machine learning\") > 0:\n",
    "        ml_summary_entries.append(title)\n",
    "\n",
    "ml_summary_entries"
   ]
  }
 ],
 "metadata": {
  "kernelspec": {
   "display_name": "Python 3",
   "language": "python",
   "name": "python3"
  },
  "language_info": {
   "codemirror_mode": {
    "name": "ipython",
    "version": 3
   },
   "file_extension": ".py",
   "mimetype": "text/x-python",
   "name": "python",
   "nbconvert_exporter": "python",
   "pygments_lexer": "ipython3",
   "version": "3.7.4"
  }
 },
 "nbformat": 4,
 "nbformat_minor": 2
}
