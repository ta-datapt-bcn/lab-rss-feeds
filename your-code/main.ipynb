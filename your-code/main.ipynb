{
 "cells": [
  {
   "cell_type": "markdown",
   "metadata": {},
   "source": [
    "# Working with RSS Feeds Lab\n",
    "\n",
    "Complete the following set of exercises to solidify your knowledge of parsing RSS feeds and extracting information from them."
   ]
  },
  {
   "cell_type": "code",
   "execution_count": 4,
   "metadata": {
    "ExecuteTime": {
     "end_time": "2020-02-13T17:02:13.427449Z",
     "start_time": "2020-02-13T17:02:13.325653Z"
    }
   },
   "outputs": [],
   "source": [
    "import feedparser"
   ]
  },
  {
   "cell_type": "markdown",
   "metadata": {},
   "source": [
    "### 1. Use feedparser to parse the following RSS feed URL."
   ]
  },
  {
   "cell_type": "code",
   "execution_count": 5,
   "metadata": {
    "ExecuteTime": {
     "end_time": "2020-02-13T17:02:14.926762Z",
     "start_time": "2020-02-13T17:02:14.919208Z"
    }
   },
   "outputs": [],
   "source": [
    "url = 'http://feeds.feedburner.com/oreilly/radar/atom'"
   ]
  },
  {
   "cell_type": "code",
   "execution_count": 8,
   "metadata": {
    "ExecuteTime": {
     "end_time": "2020-02-13T17:02:48.240205Z",
     "start_time": "2020-02-13T17:02:47.861150Z"
    }
   },
   "outputs": [],
   "source": [
    "rss_parser = feedparser.parse(url)"
   ]
  },
  {
   "cell_type": "markdown",
   "metadata": {},
   "source": [
    "### 2. Obtain a list of components (keys) that are available for this feed."
   ]
  },
  {
   "cell_type": "code",
   "execution_count": 13,
   "metadata": {
    "ExecuteTime": {
     "end_time": "2020-02-13T17:03:58.765906Z",
     "start_time": "2020-02-13T17:03:58.754945Z"
    }
   },
   "outputs": [
    {
     "name": "stdout",
     "output_type": "stream",
     "text": [
      "dict_keys(['feed', 'entries', 'bozo', 'headers', 'etag', 'updated', 'updated_parsed', 'href', 'status', 'encoding', 'version', 'namespaces'])\n"
     ]
    }
   ],
   "source": [
    "print(rss_parser.keys())"
   ]
  },
  {
   "cell_type": "markdown",
   "metadata": {},
   "source": [
    "### 3. Obtain a list of components (keys) that are available for the *feed* component of this RSS feed."
   ]
  },
  {
   "cell_type": "code",
   "execution_count": 14,
   "metadata": {
    "ExecuteTime": {
     "end_time": "2020-02-13T17:04:00.654540Z",
     "start_time": "2020-02-13T17:04:00.641867Z"
    }
   },
   "outputs": [
    {
     "name": "stdout",
     "output_type": "stream",
     "text": [
      "dict_keys(['title', 'title_detail', 'links', 'link', 'subtitle', 'subtitle_detail', 'updated', 'updated_parsed', 'language', 'sy_updateperiod', 'sy_updatefrequency', 'generator_detail', 'generator', 'feedburner_info', 'geo_lat', 'geo_long', 'feedburner_emailserviceid', 'feedburner_feedburnerhostname'])\n"
     ]
    }
   ],
   "source": [
    "print(rss_parser.feed.keys())"
   ]
  },
  {
   "cell_type": "code",
   "execution_count": 22,
   "metadata": {
    "ExecuteTime": {
     "end_time": "2020-02-13T17:14:28.221608Z",
     "start_time": "2020-02-13T17:14:28.207881Z"
    }
   },
   "outputs": [
    {
     "name": "stdout",
     "output_type": "stream",
     "text": [
      "https://www.oreilly.com/radar\n"
     ]
    }
   ],
   "source": [
    "print(rss_parser.feed.link)"
   ]
  },
  {
   "cell_type": "markdown",
   "metadata": {},
   "source": [
    "### 4. Extract and print the feed title, subtitle, author, and link."
   ]
  },
  {
   "cell_type": "code",
   "execution_count": 34,
   "metadata": {
    "ExecuteTime": {
     "end_time": "2020-02-13T17:29:35.997843Z",
     "start_time": "2020-02-13T17:29:35.990109Z"
    }
   },
   "outputs": [
    {
     "name": "stdout",
     "output_type": "stream",
     "text": [
      "['Radar', 'Now, next, and beyond: Tracking need-to-know trends at the intersection of business and technology', 'Now, next, and beyond: Tracking need-to-know trends at the intersection of business and technology', 'Nat Torkington', 'https://www.oreilly.com/radar']\n"
     ]
    }
   ],
   "source": [
    "rss_list=[rss_parser.feed.title,rss_parser.feed.subtitle,rss_parser.feed.subtitle,rss_parser.entries[0].authors[0].name,rss_parser.feed.link]\n",
    "print(rss_list)"
   ]
  },
  {
   "cell_type": "markdown",
   "metadata": {},
   "source": [
    "### 5. Count the number of entries that are contained in this RSS feed."
   ]
  },
  {
   "cell_type": "code",
   "execution_count": 41,
   "metadata": {
    "ExecuteTime": {
     "end_time": "2020-02-13T17:43:12.748057Z",
     "start_time": "2020-02-13T17:43:12.736198Z"
    }
   },
   "outputs": [
    {
     "name": "stdout",
     "output_type": "stream",
     "text": [
      "60\n"
     ]
    }
   ],
   "source": [
    "print(len(rss_parser.entries))"
   ]
  },
  {
   "cell_type": "markdown",
   "metadata": {},
   "source": [
    "### 6. Obtain a list of components (keys) available for an entry.\n",
    "\n",
    "*Hint: Remember to index first before requesting the keys*"
   ]
  },
  {
   "cell_type": "code",
   "execution_count": 46,
   "metadata": {
    "ExecuteTime": {
     "end_time": "2020-02-13T17:47:25.735918Z",
     "start_time": "2020-02-13T17:47:25.729358Z"
    }
   },
   "outputs": [
    {
     "name": "stdout",
     "output_type": "stream",
     "text": [
      "dict_keys(['title', 'title_detail', 'links', 'link', 'comments', 'published', 'published_parsed', 'authors', 'author', 'author_detail', 'tags', 'id', 'guidislink', 'summary', 'summary_detail', 'content', 'wfw_commentrss', 'slash_comments', 'feedburner_origlink'])\n"
     ]
    }
   ],
   "source": [
    "print(rss_parser.entries[0].keys())"
   ]
  },
  {
   "cell_type": "markdown",
   "metadata": {},
   "source": [
    "### 7. Extract a list of entry titles."
   ]
  },
  {
   "cell_type": "code",
   "execution_count": 49,
   "metadata": {
    "ExecuteTime": {
     "end_time": "2020-02-13T17:58:45.156964Z",
     "start_time": "2020-02-13T17:58:45.150979Z"
    }
   },
   "outputs": [
    {
     "name": "stdout",
     "output_type": "stream",
     "text": [
      "['Four short links: 13 February 2020', 'The state of data quality in 2020', 'Four short links: 12 February 2020', 'Four short links: 11 February 2020', 'Four short links: 10 February 2020', 'Four short links: 7 February 2020', 'Radar trends to watch: February 2020', 'Four short links: 6 February 2020', 'Four short links: 5 February 2020', 'Four short links: 4 February 2020', 'AI meets operations', 'Four short links: 3 February 2020', 'Four short links: 31 January 2020', 'Four short links: 30 January 2020', 'Four short links: 29 January 2020', 'Four short links: 28 January 2020', 'Four short links: 27 January 2020', 'Four short links: 24 January 2020', 'Four short links: 23 January 2020', 'Four short links: 22 January 2020', 'Four short links: 21 January 2020', 'Four short links: 20 January 2020', 'Four short links: 17 January 2020', 'Four short links: 16 January 2020', 'Reinforcement learning for the real world', 'Four short links: 15 January 2020', 'Four short links: 14 January 2020', 'Where programming languages are headed in 2020', 'Four short links: 13 January 2020', 'Four short links: 10 January 2020', 'Radar trends to watch: January 2020', 'Four short links: 9 January 2020', '9 additional books for the Next Economy', 'Four short links: 8 January 2020', '8 AI trends we’re watching in 2020', 'Four short links: 7 January 2020', 'Rethinking programming', 'Four short links: 6 January 2020', 'Four short links: 3 January 2020', 'Four short links: 2 January 2020', '10+ books for the Next Economy', 'Four short links: 1 January 2020', 'Four short links: 31 December 2019', 'Four short links: 30 December 2019', 'Four short links: 27 December 2019', 'Four short links: 26 December 2019', 'Four short links: 25 December 2019', 'Four short links: 24 December 2019', 'Four short links: 23 December 2019', 'Four short links: 20 December 2019', 'Four short links: 19 December 2019', 'AI is computer science disguised as hard work', 'Four short links: 18 December 2019', 'Four short links: 17 December 2019', '5 industries that demonstrate how blockchains go beyond finance', 'Four short links: 16 December 2019', 'Four short links: 13 December 2019', 'Why you should care about debugging machine learning models', 'Four short links: 12 December 2019', 'Four short links: 11 December 2019']\n"
     ]
    }
   ],
   "source": [
    "titles = [rss_parser.entries[i].title for i in range(len(rss_parser.entries))]\n",
    "print(titles)"
   ]
  },
  {
   "cell_type": "markdown",
   "metadata": {},
   "source": [
    "### 8. Calculate the percentage of \"Four short links\" entry titles."
   ]
  },
  {
   "cell_type": "code",
   "execution_count": 151,
   "metadata": {
    "ExecuteTime": {
     "end_time": "2020-02-13T19:43:53.310778Z",
     "start_time": "2020-02-13T19:43:53.301802Z"
    }
   },
   "outputs": [
    {
     "name": "stdout",
     "output_type": "stream",
     "text": [
      "78.33%\n"
     ]
    }
   ],
   "source": [
    "titles_fsl = [rss_parser.entries[i].title for i in range(len(rss_parser.entries)) if rss_parser.entries[i].title.find('Four short links')!=-1]\n",
    "perc_fsl = len(titles_fsl)/len(titles)\n",
    "print(\"{0:.2f}%\".format(perc_fsl * 100))"
   ]
  },
  {
   "cell_type": "markdown",
   "metadata": {},
   "source": [
    "### 9. Create a Pandas data frame from the feed's entries."
   ]
  },
  {
   "cell_type": "code",
   "execution_count": 62,
   "metadata": {
    "ExecuteTime": {
     "end_time": "2020-02-13T18:13:24.480091Z",
     "start_time": "2020-02-13T18:13:23.559027Z"
    }
   },
   "outputs": [],
   "source": [
    "import pandas as pd"
   ]
  },
  {
   "cell_type": "code",
   "execution_count": 89,
   "metadata": {
    "ExecuteTime": {
     "end_time": "2020-02-13T18:31:50.784307Z",
     "start_time": "2020-02-13T18:31:50.727459Z"
    }
   },
   "outputs": [
    {
     "data": {
      "text/html": [
       "<div>\n",
       "<style scoped>\n",
       "    .dataframe tbody tr th:only-of-type {\n",
       "        vertical-align: middle;\n",
       "    }\n",
       "\n",
       "    .dataframe tbody tr th {\n",
       "        vertical-align: top;\n",
       "    }\n",
       "\n",
       "    .dataframe thead th {\n",
       "        text-align: right;\n",
       "    }\n",
       "</style>\n",
       "<table border=\"1\" class=\"dataframe\">\n",
       "  <thead>\n",
       "    <tr style=\"text-align: right;\">\n",
       "      <th></th>\n",
       "      <th>author</th>\n",
       "      <th>author_detail</th>\n",
       "      <th>authors</th>\n",
       "      <th>comments</th>\n",
       "      <th>content</th>\n",
       "      <th>feedburner_origlink</th>\n",
       "      <th>guidislink</th>\n",
       "      <th>id</th>\n",
       "      <th>link</th>\n",
       "      <th>links</th>\n",
       "      <th>published</th>\n",
       "      <th>published_parsed</th>\n",
       "      <th>slash_comments</th>\n",
       "      <th>summary</th>\n",
       "      <th>summary_detail</th>\n",
       "      <th>tags</th>\n",
       "      <th>title</th>\n",
       "      <th>title_detail</th>\n",
       "      <th>wfw_commentrss</th>\n",
       "    </tr>\n",
       "  </thead>\n",
       "  <tbody>\n",
       "    <tr>\n",
       "      <th>0</th>\n",
       "      <td>Nat Torkington</td>\n",
       "      <td>{'name': 'Nat Torkington'}</td>\n",
       "      <td>[{'name': 'Nat Torkington'}]</td>\n",
       "      <td>https://www.oreilly.com/radar/four-short-links...</td>\n",
       "      <td>[{'type': 'text/html', 'language': None, 'base...</td>\n",
       "      <td>https://www.oreilly.com/radar/four-short-links...</td>\n",
       "      <td>False</td>\n",
       "      <td>https://www.oreilly.com/radar/?p=11952</td>\n",
       "      <td>http://feedproxy.google.com/~r/oreilly/radar/a...</td>\n",
       "      <td>[{'rel': 'alternate', 'type': 'text/html', 'hr...</td>\n",
       "      <td>Thu, 13 Feb 2020 05:01:00 +0000</td>\n",
       "      <td>(2020, 2, 13, 5, 1, 0, 3, 44, 0)</td>\n",
       "      <td>0</td>\n",
       "      <td>Ofcom To Regulate UK Internet &amp;#8212; The regu...</td>\n",
       "      <td>{'type': 'text/html', 'language': None, 'base'...</td>\n",
       "      <td>[{'term': 'Four Short Links', 'scheme': None, ...</td>\n",
       "      <td>Four short links: 13 February 2020</td>\n",
       "      <td>{'type': 'text/plain', 'language': None, 'base...</td>\n",
       "      <td>https://www.oreilly.com/radar/four-short-links...</td>\n",
       "    </tr>\n",
       "    <tr>\n",
       "      <th>1</th>\n",
       "      <td>Roger Magoulas and Steve Swoyer</td>\n",
       "      <td>{'name': 'Roger Magoulas and Steve Swoyer'}</td>\n",
       "      <td>[{'name': 'Roger Magoulas and Steve Swoyer'}]</td>\n",
       "      <td>https://www.oreilly.com/radar/the-state-of-dat...</td>\n",
       "      <td>[{'type': 'text/html', 'language': None, 'base...</td>\n",
       "      <td>https://www.oreilly.com/radar/the-state-of-dat...</td>\n",
       "      <td>False</td>\n",
       "      <td>https://www.oreilly.com/radar/?p=11549</td>\n",
       "      <td>http://feedproxy.google.com/~r/oreilly/radar/a...</td>\n",
       "      <td>[{'rel': 'alternate', 'type': 'text/html', 'hr...</td>\n",
       "      <td>Wed, 12 Feb 2020 06:00:00 +0000</td>\n",
       "      <td>(2020, 2, 12, 6, 0, 0, 2, 43, 0)</td>\n",
       "      <td>0</td>\n",
       "      <td>We suspected that data quality was a topic bri...</td>\n",
       "      <td>{'type': 'text/html', 'language': None, 'base'...</td>\n",
       "      <td>[{'term': 'AI &amp; ML', 'scheme': None, 'label': ...</td>\n",
       "      <td>The state of data quality in 2020</td>\n",
       "      <td>{'type': 'text/plain', 'language': None, 'base...</td>\n",
       "      <td>https://www.oreilly.com/radar/the-state-of-dat...</td>\n",
       "    </tr>\n",
       "    <tr>\n",
       "      <th>2</th>\n",
       "      <td>Nat Torkington</td>\n",
       "      <td>{'name': 'Nat Torkington'}</td>\n",
       "      <td>[{'name': 'Nat Torkington'}]</td>\n",
       "      <td>https://www.oreilly.com/radar/four-short-links...</td>\n",
       "      <td>[{'type': 'text/html', 'language': None, 'base...</td>\n",
       "      <td>https://www.oreilly.com/radar/four-short-links...</td>\n",
       "      <td>False</td>\n",
       "      <td>https://www.oreilly.com/radar/?p=11936</td>\n",
       "      <td>http://feedproxy.google.com/~r/oreilly/radar/a...</td>\n",
       "      <td>[{'rel': 'alternate', 'type': 'text/html', 'hr...</td>\n",
       "      <td>Wed, 12 Feb 2020 05:01:00 +0000</td>\n",
       "      <td>(2020, 2, 12, 5, 1, 0, 2, 43, 0)</td>\n",
       "      <td>0</td>\n",
       "      <td>Drafting an Engineering Strategy (Mathias Meye...</td>\n",
       "      <td>{'type': 'text/html', 'language': None, 'base'...</td>\n",
       "      <td>[{'term': 'Four Short Links', 'scheme': None, ...</td>\n",
       "      <td>Four short links: 12 February 2020</td>\n",
       "      <td>{'type': 'text/plain', 'language': None, 'base...</td>\n",
       "      <td>https://www.oreilly.com/radar/four-short-links...</td>\n",
       "    </tr>\n",
       "    <tr>\n",
       "      <th>3</th>\n",
       "      <td>Nat Torkington</td>\n",
       "      <td>{'name': 'Nat Torkington'}</td>\n",
       "      <td>[{'name': 'Nat Torkington'}]</td>\n",
       "      <td>https://www.oreilly.com/radar/four-short-links...</td>\n",
       "      <td>[{'type': 'text/html', 'language': None, 'base...</td>\n",
       "      <td>https://www.oreilly.com/radar/four-short-links...</td>\n",
       "      <td>False</td>\n",
       "      <td>https://www.oreilly.com/radar/?p=11773</td>\n",
       "      <td>http://feedproxy.google.com/~r/oreilly/radar/a...</td>\n",
       "      <td>[{'rel': 'alternate', 'type': 'text/html', 'hr...</td>\n",
       "      <td>Tue, 11 Feb 2020 05:01:00 +0000</td>\n",
       "      <td>(2020, 2, 11, 5, 1, 0, 1, 42, 0)</td>\n",
       "      <td>0</td>\n",
       "      <td>The Fate of Empires &amp;#8212; 1977 text summariz...</td>\n",
       "      <td>{'type': 'text/html', 'language': None, 'base'...</td>\n",
       "      <td>[{'term': 'Four Short Links', 'scheme': None, ...</td>\n",
       "      <td>Four short links: 11 February 2020</td>\n",
       "      <td>{'type': 'text/plain', 'language': None, 'base...</td>\n",
       "      <td>https://www.oreilly.com/radar/four-short-links...</td>\n",
       "    </tr>\n",
       "    <tr>\n",
       "      <th>4</th>\n",
       "      <td>Nat Torkington</td>\n",
       "      <td>{'name': 'Nat Torkington'}</td>\n",
       "      <td>[{'name': 'Nat Torkington'}]</td>\n",
       "      <td>https://www.oreilly.com/radar/four-short-links...</td>\n",
       "      <td>[{'type': 'text/html', 'language': None, 'base...</td>\n",
       "      <td>https://www.oreilly.com/radar/four-short-links...</td>\n",
       "      <td>False</td>\n",
       "      <td>https://www.oreilly.com/radar/?p=11745</td>\n",
       "      <td>http://feedproxy.google.com/~r/oreilly/radar/a...</td>\n",
       "      <td>[{'rel': 'alternate', 'type': 'text/html', 'hr...</td>\n",
       "      <td>Mon, 10 Feb 2020 05:01:00 +0000</td>\n",
       "      <td>(2020, 2, 10, 5, 1, 0, 0, 41, 0)</td>\n",
       "      <td>0</td>\n",
       "      <td>The Digital Dictators: How Technology Strength...</td>\n",
       "      <td>{'type': 'text/html', 'language': None, 'base'...</td>\n",
       "      <td>[{'term': 'Four Short Links', 'scheme': None, ...</td>\n",
       "      <td>Four short links: 10 February 2020</td>\n",
       "      <td>{'type': 'text/plain', 'language': None, 'base...</td>\n",
       "      <td>https://www.oreilly.com/radar/four-short-links...</td>\n",
       "    </tr>\n",
       "  </tbody>\n",
       "</table>\n",
       "</div>"
      ],
      "text/plain": [
       "                            author  \\\n",
       "0                   Nat Torkington   \n",
       "1  Roger Magoulas and Steve Swoyer   \n",
       "2                   Nat Torkington   \n",
       "3                   Nat Torkington   \n",
       "4                   Nat Torkington   \n",
       "\n",
       "                                 author_detail  \\\n",
       "0                   {'name': 'Nat Torkington'}   \n",
       "1  {'name': 'Roger Magoulas and Steve Swoyer'}   \n",
       "2                   {'name': 'Nat Torkington'}   \n",
       "3                   {'name': 'Nat Torkington'}   \n",
       "4                   {'name': 'Nat Torkington'}   \n",
       "\n",
       "                                         authors  \\\n",
       "0                   [{'name': 'Nat Torkington'}]   \n",
       "1  [{'name': 'Roger Magoulas and Steve Swoyer'}]   \n",
       "2                   [{'name': 'Nat Torkington'}]   \n",
       "3                   [{'name': 'Nat Torkington'}]   \n",
       "4                   [{'name': 'Nat Torkington'}]   \n",
       "\n",
       "                                            comments  \\\n",
       "0  https://www.oreilly.com/radar/four-short-links...   \n",
       "1  https://www.oreilly.com/radar/the-state-of-dat...   \n",
       "2  https://www.oreilly.com/radar/four-short-links...   \n",
       "3  https://www.oreilly.com/radar/four-short-links...   \n",
       "4  https://www.oreilly.com/radar/four-short-links...   \n",
       "\n",
       "                                             content  \\\n",
       "0  [{'type': 'text/html', 'language': None, 'base...   \n",
       "1  [{'type': 'text/html', 'language': None, 'base...   \n",
       "2  [{'type': 'text/html', 'language': None, 'base...   \n",
       "3  [{'type': 'text/html', 'language': None, 'base...   \n",
       "4  [{'type': 'text/html', 'language': None, 'base...   \n",
       "\n",
       "                                 feedburner_origlink  guidislink  \\\n",
       "0  https://www.oreilly.com/radar/four-short-links...       False   \n",
       "1  https://www.oreilly.com/radar/the-state-of-dat...       False   \n",
       "2  https://www.oreilly.com/radar/four-short-links...       False   \n",
       "3  https://www.oreilly.com/radar/four-short-links...       False   \n",
       "4  https://www.oreilly.com/radar/four-short-links...       False   \n",
       "\n",
       "                                       id  \\\n",
       "0  https://www.oreilly.com/radar/?p=11952   \n",
       "1  https://www.oreilly.com/radar/?p=11549   \n",
       "2  https://www.oreilly.com/radar/?p=11936   \n",
       "3  https://www.oreilly.com/radar/?p=11773   \n",
       "4  https://www.oreilly.com/radar/?p=11745   \n",
       "\n",
       "                                                link  \\\n",
       "0  http://feedproxy.google.com/~r/oreilly/radar/a...   \n",
       "1  http://feedproxy.google.com/~r/oreilly/radar/a...   \n",
       "2  http://feedproxy.google.com/~r/oreilly/radar/a...   \n",
       "3  http://feedproxy.google.com/~r/oreilly/radar/a...   \n",
       "4  http://feedproxy.google.com/~r/oreilly/radar/a...   \n",
       "\n",
       "                                               links  \\\n",
       "0  [{'rel': 'alternate', 'type': 'text/html', 'hr...   \n",
       "1  [{'rel': 'alternate', 'type': 'text/html', 'hr...   \n",
       "2  [{'rel': 'alternate', 'type': 'text/html', 'hr...   \n",
       "3  [{'rel': 'alternate', 'type': 'text/html', 'hr...   \n",
       "4  [{'rel': 'alternate', 'type': 'text/html', 'hr...   \n",
       "\n",
       "                         published                  published_parsed  \\\n",
       "0  Thu, 13 Feb 2020 05:01:00 +0000  (2020, 2, 13, 5, 1, 0, 3, 44, 0)   \n",
       "1  Wed, 12 Feb 2020 06:00:00 +0000  (2020, 2, 12, 6, 0, 0, 2, 43, 0)   \n",
       "2  Wed, 12 Feb 2020 05:01:00 +0000  (2020, 2, 12, 5, 1, 0, 2, 43, 0)   \n",
       "3  Tue, 11 Feb 2020 05:01:00 +0000  (2020, 2, 11, 5, 1, 0, 1, 42, 0)   \n",
       "4  Mon, 10 Feb 2020 05:01:00 +0000  (2020, 2, 10, 5, 1, 0, 0, 41, 0)   \n",
       "\n",
       "  slash_comments                                            summary  \\\n",
       "0              0  Ofcom To Regulate UK Internet &#8212; The regu...   \n",
       "1              0  We suspected that data quality was a topic bri...   \n",
       "2              0  Drafting an Engineering Strategy (Mathias Meye...   \n",
       "3              0  The Fate of Empires &#8212; 1977 text summariz...   \n",
       "4              0  The Digital Dictators: How Technology Strength...   \n",
       "\n",
       "                                      summary_detail  \\\n",
       "0  {'type': 'text/html', 'language': None, 'base'...   \n",
       "1  {'type': 'text/html', 'language': None, 'base'...   \n",
       "2  {'type': 'text/html', 'language': None, 'base'...   \n",
       "3  {'type': 'text/html', 'language': None, 'base'...   \n",
       "4  {'type': 'text/html', 'language': None, 'base'...   \n",
       "\n",
       "                                                tags  \\\n",
       "0  [{'term': 'Four Short Links', 'scheme': None, ...   \n",
       "1  [{'term': 'AI & ML', 'scheme': None, 'label': ...   \n",
       "2  [{'term': 'Four Short Links', 'scheme': None, ...   \n",
       "3  [{'term': 'Four Short Links', 'scheme': None, ...   \n",
       "4  [{'term': 'Four Short Links', 'scheme': None, ...   \n",
       "\n",
       "                                title  \\\n",
       "0  Four short links: 13 February 2020   \n",
       "1   The state of data quality in 2020   \n",
       "2  Four short links: 12 February 2020   \n",
       "3  Four short links: 11 February 2020   \n",
       "4  Four short links: 10 February 2020   \n",
       "\n",
       "                                        title_detail  \\\n",
       "0  {'type': 'text/plain', 'language': None, 'base...   \n",
       "1  {'type': 'text/plain', 'language': None, 'base...   \n",
       "2  {'type': 'text/plain', 'language': None, 'base...   \n",
       "3  {'type': 'text/plain', 'language': None, 'base...   \n",
       "4  {'type': 'text/plain', 'language': None, 'base...   \n",
       "\n",
       "                                      wfw_commentrss  \n",
       "0  https://www.oreilly.com/radar/four-short-links...  \n",
       "1  https://www.oreilly.com/radar/the-state-of-dat...  \n",
       "2  https://www.oreilly.com/radar/four-short-links...  \n",
       "3  https://www.oreilly.com/radar/four-short-links...  \n",
       "4  https://www.oreilly.com/radar/four-short-links...  "
      ]
     },
     "execution_count": 89,
     "metadata": {},
     "output_type": "execute_result"
    }
   ],
   "source": [
    "columns = list(rss_parser.entries)\n",
    "df = pd.DataFrame(rss_parser.entries)\n",
    "df.head()"
   ]
  },
  {
   "cell_type": "markdown",
   "metadata": {},
   "source": [
    "### 10. Count the number of entries per author and sort them in descending order."
   ]
  },
  {
   "cell_type": "code",
   "execution_count": 92,
   "metadata": {
    "ExecuteTime": {
     "end_time": "2020-02-13T18:41:06.279379Z",
     "start_time": "2020-02-13T18:41:06.254745Z"
    }
   },
   "outputs": [
    {
     "data": {
      "text/html": [
       "<div>\n",
       "<style scoped>\n",
       "    .dataframe tbody tr th:only-of-type {\n",
       "        vertical-align: middle;\n",
       "    }\n",
       "\n",
       "    .dataframe tbody tr th {\n",
       "        vertical-align: top;\n",
       "    }\n",
       "\n",
       "    .dataframe thead th {\n",
       "        text-align: right;\n",
       "    }\n",
       "</style>\n",
       "<table border=\"1\" class=\"dataframe\">\n",
       "  <thead>\n",
       "    <tr style=\"text-align: right;\">\n",
       "      <th></th>\n",
       "      <th>author</th>\n",
       "      <th>counts</th>\n",
       "    </tr>\n",
       "  </thead>\n",
       "  <tbody>\n",
       "    <tr>\n",
       "      <th>4</th>\n",
       "      <td>Nat Torkington</td>\n",
       "      <td>47</td>\n",
       "    </tr>\n",
       "    <tr>\n",
       "      <th>3</th>\n",
       "      <td>Mike Loukides</td>\n",
       "      <td>4</td>\n",
       "    </tr>\n",
       "    <tr>\n",
       "      <th>0</th>\n",
       "      <td></td>\n",
       "      <td>2</td>\n",
       "    </tr>\n",
       "    <tr>\n",
       "      <th>2</th>\n",
       "      <td>Jenn Webb</td>\n",
       "      <td>2</td>\n",
       "    </tr>\n",
       "    <tr>\n",
       "      <th>1</th>\n",
       "      <td>Alison McCauley</td>\n",
       "      <td>1</td>\n",
       "    </tr>\n",
       "    <tr>\n",
       "      <th>5</th>\n",
       "      <td>Patrick Hall and Andrew Burt</td>\n",
       "      <td>1</td>\n",
       "    </tr>\n",
       "    <tr>\n",
       "      <th>6</th>\n",
       "      <td>Roger Magoulas</td>\n",
       "      <td>1</td>\n",
       "    </tr>\n",
       "    <tr>\n",
       "      <th>7</th>\n",
       "      <td>Roger Magoulas and Steve Swoyer</td>\n",
       "      <td>1</td>\n",
       "    </tr>\n",
       "    <tr>\n",
       "      <th>8</th>\n",
       "      <td>Zan McQuade and Amanda Quinn</td>\n",
       "      <td>1</td>\n",
       "    </tr>\n",
       "  </tbody>\n",
       "</table>\n",
       "</div>"
      ],
      "text/plain": [
       "                            author  counts\n",
       "4                   Nat Torkington      47\n",
       "3                    Mike Loukides       4\n",
       "0                                        2\n",
       "2                        Jenn Webb       2\n",
       "1                  Alison McCauley       1\n",
       "5     Patrick Hall and Andrew Burt       1\n",
       "6                   Roger Magoulas       1\n",
       "7  Roger Magoulas and Steve Swoyer       1\n",
       "8     Zan McQuade and Amanda Quinn       1"
      ]
     },
     "execution_count": 92,
     "metadata": {},
     "output_type": "execute_result"
    }
   ],
   "source": [
    "df.groupby('author').size().reset_index(name='counts').sort_values(by='counts', ascending=False)"
   ]
  },
  {
   "cell_type": "markdown",
   "metadata": {},
   "source": [
    "### 11. Add a new column to the data frame that contains the length (number of characters) of each entry title. Return a data frame that contains the title, author, and title length of each entry in descending order (longest title length at the top)."
   ]
  },
  {
   "cell_type": "code",
   "execution_count": 105,
   "metadata": {
    "ExecuteTime": {
     "end_time": "2020-02-13T19:11:50.270327Z",
     "start_time": "2020-02-13T19:11:50.258362Z"
    }
   },
   "outputs": [
    {
     "data": {
      "text/html": [
       "<div>\n",
       "<style scoped>\n",
       "    .dataframe tbody tr th:only-of-type {\n",
       "        vertical-align: middle;\n",
       "    }\n",
       "\n",
       "    .dataframe tbody tr th {\n",
       "        vertical-align: top;\n",
       "    }\n",
       "\n",
       "    .dataframe thead th {\n",
       "        text-align: right;\n",
       "    }\n",
       "</style>\n",
       "<table border=\"1\" class=\"dataframe\">\n",
       "  <thead>\n",
       "    <tr style=\"text-align: right;\">\n",
       "      <th></th>\n",
       "      <th>title</th>\n",
       "      <th>author</th>\n",
       "      <th>title_length</th>\n",
       "    </tr>\n",
       "  </thead>\n",
       "  <tbody>\n",
       "    <tr>\n",
       "      <th>54</th>\n",
       "      <td>5 industries that demonstrate how blockchains ...</td>\n",
       "      <td>Alison McCauley</td>\n",
       "      <td>63</td>\n",
       "    </tr>\n",
       "    <tr>\n",
       "      <th>57</th>\n",
       "      <td>Why you should care about debugging machine le...</td>\n",
       "      <td>Patrick Hall and Andrew Burt</td>\n",
       "      <td>59</td>\n",
       "    </tr>\n",
       "    <tr>\n",
       "      <th>27</th>\n",
       "      <td>Where programming languages are headed in 2020</td>\n",
       "      <td>Zan McQuade and Amanda Quinn</td>\n",
       "      <td>46</td>\n",
       "    </tr>\n",
       "    <tr>\n",
       "      <th>51</th>\n",
       "      <td>AI is computer science disguised as hard work</td>\n",
       "      <td>Jenn Webb</td>\n",
       "      <td>45</td>\n",
       "    </tr>\n",
       "    <tr>\n",
       "      <th>24</th>\n",
       "      <td>Reinforcement learning for the real world</td>\n",
       "      <td>Jenn Webb</td>\n",
       "      <td>41</td>\n",
       "    </tr>\n",
       "  </tbody>\n",
       "</table>\n",
       "</div>"
      ],
      "text/plain": [
       "                                                title  \\\n",
       "54  5 industries that demonstrate how blockchains ...   \n",
       "57  Why you should care about debugging machine le...   \n",
       "27     Where programming languages are headed in 2020   \n",
       "51      AI is computer science disguised as hard work   \n",
       "24          Reinforcement learning for the real world   \n",
       "\n",
       "                          author  title_length  \n",
       "54               Alison McCauley            63  \n",
       "57  Patrick Hall and Andrew Burt            59  \n",
       "27  Zan McQuade and Amanda Quinn            46  \n",
       "51                     Jenn Webb            45  \n",
       "24                     Jenn Webb            41  "
      ]
     },
     "execution_count": 105,
     "metadata": {},
     "output_type": "execute_result"
    }
   ],
   "source": [
    "df['title_length']=df.title.apply(lambda x:len(x))\n",
    "df_out= df[['title','author','title_length']].sort_values(by='title_length', ascending=False)\n",
    "df_out.head()"
   ]
  },
  {
   "cell_type": "markdown",
   "metadata": {},
   "source": [
    "### 12. Create a list of entry titles whose summary includes the phrase \"machine learning.\""
   ]
  },
  {
   "cell_type": "code",
   "execution_count": 149,
   "metadata": {
    "ExecuteTime": {
     "end_time": "2020-02-13T19:42:49.783255Z",
     "start_time": "2020-02-13T19:42:49.718790Z"
    }
   },
   "outputs": [
    {
     "data": {
      "text/html": [
       "<div>\n",
       "<style scoped>\n",
       "    .dataframe tbody tr th:only-of-type {\n",
       "        vertical-align: middle;\n",
       "    }\n",
       "\n",
       "    .dataframe tbody tr th {\n",
       "        vertical-align: top;\n",
       "    }\n",
       "\n",
       "    .dataframe thead th {\n",
       "        text-align: right;\n",
       "    }\n",
       "</style>\n",
       "<table border=\"1\" class=\"dataframe\">\n",
       "  <thead>\n",
       "    <tr style=\"text-align: right;\">\n",
       "      <th></th>\n",
       "      <th>author</th>\n",
       "      <th>author_detail</th>\n",
       "      <th>authors</th>\n",
       "      <th>comments</th>\n",
       "      <th>content</th>\n",
       "      <th>feedburner_origlink</th>\n",
       "      <th>guidislink</th>\n",
       "      <th>id</th>\n",
       "      <th>link</th>\n",
       "      <th>links</th>\n",
       "      <th>...</th>\n",
       "      <th>published_parsed</th>\n",
       "      <th>slash_comments</th>\n",
       "      <th>summary</th>\n",
       "      <th>summary_detail</th>\n",
       "      <th>tags</th>\n",
       "      <th>title</th>\n",
       "      <th>title_detail</th>\n",
       "      <th>wfw_commentrss</th>\n",
       "      <th>len</th>\n",
       "      <th>title_length</th>\n",
       "    </tr>\n",
       "  </thead>\n",
       "  <tbody>\n",
       "    <tr>\n",
       "      <th>0</th>\n",
       "      <td>Nat Torkington</td>\n",
       "      <td>{'name': 'Nat Torkington'}</td>\n",
       "      <td>[{'name': 'Nat Torkington'}]</td>\n",
       "      <td>https://www.oreilly.com/radar/four-short-links...</td>\n",
       "      <td>[{'type': 'text/html', 'language': None, 'base...</td>\n",
       "      <td>https://www.oreilly.com/radar/four-short-links...</td>\n",
       "      <td>False</td>\n",
       "      <td>https://www.oreilly.com/radar/?p=11952</td>\n",
       "      <td>http://feedproxy.google.com/~r/oreilly/radar/a...</td>\n",
       "      <td>[{'rel': 'alternate', 'type': 'text/html', 'hr...</td>\n",
       "      <td>...</td>\n",
       "      <td>(2020, 2, 13, 5, 1, 0, 3, 44, 0)</td>\n",
       "      <td>0</td>\n",
       "      <td>Ofcom To Regulate UK Internet &amp;#8212; The regu...</td>\n",
       "      <td>{'type': 'text/html', 'language': None, 'base'...</td>\n",
       "      <td>[{'term': 'Four Short Links', 'scheme': None, ...</td>\n",
       "      <td>Four short links: 13 February 2020</td>\n",
       "      <td>{'type': 'text/plain', 'language': None, 'base...</td>\n",
       "      <td>https://www.oreilly.com/radar/four-short-links...</td>\n",
       "      <td>34</td>\n",
       "      <td>34</td>\n",
       "    </tr>\n",
       "    <tr>\n",
       "      <th>7</th>\n",
       "      <td>Nat Torkington</td>\n",
       "      <td>{'name': 'Nat Torkington'}</td>\n",
       "      <td>[{'name': 'Nat Torkington'}]</td>\n",
       "      <td>https://www.oreilly.com/radar/four-short-links...</td>\n",
       "      <td>[{'type': 'text/html', 'language': None, 'base...</td>\n",
       "      <td>https://www.oreilly.com/radar/four-short-links...</td>\n",
       "      <td>False</td>\n",
       "      <td>https://www.oreilly.com/radar/?p=11682</td>\n",
       "      <td>http://feedproxy.google.com/~r/oreilly/radar/a...</td>\n",
       "      <td>[{'rel': 'alternate', 'type': 'text/html', 'hr...</td>\n",
       "      <td>...</td>\n",
       "      <td>(2020, 2, 6, 5, 1, 0, 3, 37, 0)</td>\n",
       "      <td>0</td>\n",
       "      <td>Assembler &amp;#8212; Google&amp;#8217;s Jigsaw group ...</td>\n",
       "      <td>{'type': 'text/html', 'language': None, 'base'...</td>\n",
       "      <td>[{'term': 'Four Short Links', 'scheme': None, ...</td>\n",
       "      <td>Four short links: 6 February 2020</td>\n",
       "      <td>{'type': 'text/plain', 'language': None, 'base...</td>\n",
       "      <td>https://www.oreilly.com/radar/four-short-links...</td>\n",
       "      <td>33</td>\n",
       "      <td>33</td>\n",
       "    </tr>\n",
       "    <tr>\n",
       "      <th>15</th>\n",
       "      <td>Nat Torkington</td>\n",
       "      <td>{'name': 'Nat Torkington'}</td>\n",
       "      <td>[{'name': 'Nat Torkington'}]</td>\n",
       "      <td>https://www.oreilly.com/radar/four-short-links...</td>\n",
       "      <td>[{'type': 'text/html', 'language': None, 'base...</td>\n",
       "      <td>https://www.oreilly.com/radar/four-short-links...</td>\n",
       "      <td>False</td>\n",
       "      <td>https://www.oreilly.com/radar/?p=11581</td>\n",
       "      <td>http://feedproxy.google.com/~r/oreilly/radar/a...</td>\n",
       "      <td>[{'rel': 'alternate', 'type': 'text/html', 'hr...</td>\n",
       "      <td>...</td>\n",
       "      <td>(2020, 1, 28, 5, 1, 0, 1, 28, 0)</td>\n",
       "      <td>0</td>\n",
       "      <td>TinyML Book &amp;#8212; machine learning for embed...</td>\n",
       "      <td>{'type': 'text/html', 'language': None, 'base'...</td>\n",
       "      <td>[{'term': 'Four Short Links', 'scheme': None, ...</td>\n",
       "      <td>Four short links: 28 January 2020</td>\n",
       "      <td>{'type': 'text/plain', 'language': None, 'base...</td>\n",
       "      <td>https://www.oreilly.com/radar/four-short-links...</td>\n",
       "      <td>33</td>\n",
       "      <td>33</td>\n",
       "    </tr>\n",
       "    <tr>\n",
       "      <th>28</th>\n",
       "      <td>Nat Torkington</td>\n",
       "      <td>{'name': 'Nat Torkington'}</td>\n",
       "      <td>[{'name': 'Nat Torkington'}]</td>\n",
       "      <td>https://www.oreilly.com/radar/four-short-links...</td>\n",
       "      <td>[{'type': 'text/html', 'language': None, 'base...</td>\n",
       "      <td>https://www.oreilly.com/radar/four-short-links...</td>\n",
       "      <td>False</td>\n",
       "      <td>https://www.oreilly.com/radar/?p=11495</td>\n",
       "      <td>http://feedproxy.google.com/~r/oreilly/radar/a...</td>\n",
       "      <td>[{'rel': 'alternate', 'type': 'text/html', 'hr...</td>\n",
       "      <td>...</td>\n",
       "      <td>(2020, 1, 13, 5, 1, 0, 0, 13, 0)</td>\n",
       "      <td>0</td>\n",
       "      <td>Simulated Customer &amp;#8212; The site will rando...</td>\n",
       "      <td>{'type': 'text/html', 'language': None, 'base'...</td>\n",
       "      <td>[{'term': 'Four Short Links', 'scheme': None, ...</td>\n",
       "      <td>Four short links: 13 January 2020</td>\n",
       "      <td>{'type': 'text/plain', 'language': None, 'base...</td>\n",
       "      <td>https://www.oreilly.com/radar/four-short-links...</td>\n",
       "      <td>33</td>\n",
       "      <td>33</td>\n",
       "    </tr>\n",
       "    <tr>\n",
       "      <th>57</th>\n",
       "      <td>Patrick Hall and Andrew Burt</td>\n",
       "      <td>{'name': 'Patrick Hall and Andrew Burt'}</td>\n",
       "      <td>[{'name': 'Patrick Hall and Andrew Burt'}]</td>\n",
       "      <td>https://www.oreilly.com/radar/why-you-should-c...</td>\n",
       "      <td>[{'type': 'text/html', 'language': None, 'base...</td>\n",
       "      <td>https://www.oreilly.com/radar/why-you-should-c...</td>\n",
       "      <td>False</td>\n",
       "      <td>https://www.oreilly.com/radar/?p=11197</td>\n",
       "      <td>http://feedproxy.google.com/~r/oreilly/radar/a...</td>\n",
       "      <td>[{'rel': 'alternate', 'type': 'text/html', 'hr...</td>\n",
       "      <td>...</td>\n",
       "      <td>(2019, 12, 12, 11, 0, 0, 3, 346, 0)</td>\n",
       "      <td>0</td>\n",
       "      <td>For all the excitement about machine learning ...</td>\n",
       "      <td>{'type': 'text/html', 'language': None, 'base'...</td>\n",
       "      <td>[{'term': 'AI &amp; ML', 'scheme': None, 'label': ...</td>\n",
       "      <td>Why you should care about debugging machine le...</td>\n",
       "      <td>{'type': 'text/plain', 'language': None, 'base...</td>\n",
       "      <td>https://www.oreilly.com/radar/why-you-should-c...</td>\n",
       "      <td>59</td>\n",
       "      <td>59</td>\n",
       "    </tr>\n",
       "  </tbody>\n",
       "</table>\n",
       "<p>5 rows × 21 columns</p>\n",
       "</div>"
      ],
      "text/plain": [
       "                          author                             author_detail  \\\n",
       "0                 Nat Torkington                {'name': 'Nat Torkington'}   \n",
       "7                 Nat Torkington                {'name': 'Nat Torkington'}   \n",
       "15                Nat Torkington                {'name': 'Nat Torkington'}   \n",
       "28                Nat Torkington                {'name': 'Nat Torkington'}   \n",
       "57  Patrick Hall and Andrew Burt  {'name': 'Patrick Hall and Andrew Burt'}   \n",
       "\n",
       "                                       authors  \\\n",
       "0                 [{'name': 'Nat Torkington'}]   \n",
       "7                 [{'name': 'Nat Torkington'}]   \n",
       "15                [{'name': 'Nat Torkington'}]   \n",
       "28                [{'name': 'Nat Torkington'}]   \n",
       "57  [{'name': 'Patrick Hall and Andrew Burt'}]   \n",
       "\n",
       "                                             comments  \\\n",
       "0   https://www.oreilly.com/radar/four-short-links...   \n",
       "7   https://www.oreilly.com/radar/four-short-links...   \n",
       "15  https://www.oreilly.com/radar/four-short-links...   \n",
       "28  https://www.oreilly.com/radar/four-short-links...   \n",
       "57  https://www.oreilly.com/radar/why-you-should-c...   \n",
       "\n",
       "                                              content  \\\n",
       "0   [{'type': 'text/html', 'language': None, 'base...   \n",
       "7   [{'type': 'text/html', 'language': None, 'base...   \n",
       "15  [{'type': 'text/html', 'language': None, 'base...   \n",
       "28  [{'type': 'text/html', 'language': None, 'base...   \n",
       "57  [{'type': 'text/html', 'language': None, 'base...   \n",
       "\n",
       "                                  feedburner_origlink  guidislink  \\\n",
       "0   https://www.oreilly.com/radar/four-short-links...       False   \n",
       "7   https://www.oreilly.com/radar/four-short-links...       False   \n",
       "15  https://www.oreilly.com/radar/four-short-links...       False   \n",
       "28  https://www.oreilly.com/radar/four-short-links...       False   \n",
       "57  https://www.oreilly.com/radar/why-you-should-c...       False   \n",
       "\n",
       "                                        id  \\\n",
       "0   https://www.oreilly.com/radar/?p=11952   \n",
       "7   https://www.oreilly.com/radar/?p=11682   \n",
       "15  https://www.oreilly.com/radar/?p=11581   \n",
       "28  https://www.oreilly.com/radar/?p=11495   \n",
       "57  https://www.oreilly.com/radar/?p=11197   \n",
       "\n",
       "                                                 link  \\\n",
       "0   http://feedproxy.google.com/~r/oreilly/radar/a...   \n",
       "7   http://feedproxy.google.com/~r/oreilly/radar/a...   \n",
       "15  http://feedproxy.google.com/~r/oreilly/radar/a...   \n",
       "28  http://feedproxy.google.com/~r/oreilly/radar/a...   \n",
       "57  http://feedproxy.google.com/~r/oreilly/radar/a...   \n",
       "\n",
       "                                                links      ...       \\\n",
       "0   [{'rel': 'alternate', 'type': 'text/html', 'hr...      ...        \n",
       "7   [{'rel': 'alternate', 'type': 'text/html', 'hr...      ...        \n",
       "15  [{'rel': 'alternate', 'type': 'text/html', 'hr...      ...        \n",
       "28  [{'rel': 'alternate', 'type': 'text/html', 'hr...      ...        \n",
       "57  [{'rel': 'alternate', 'type': 'text/html', 'hr...      ...        \n",
       "\n",
       "                       published_parsed slash_comments  \\\n",
       "0      (2020, 2, 13, 5, 1, 0, 3, 44, 0)              0   \n",
       "7       (2020, 2, 6, 5, 1, 0, 3, 37, 0)              0   \n",
       "15     (2020, 1, 28, 5, 1, 0, 1, 28, 0)              0   \n",
       "28     (2020, 1, 13, 5, 1, 0, 0, 13, 0)              0   \n",
       "57  (2019, 12, 12, 11, 0, 0, 3, 346, 0)              0   \n",
       "\n",
       "                                              summary  \\\n",
       "0   Ofcom To Regulate UK Internet &#8212; The regu...   \n",
       "7   Assembler &#8212; Google&#8217;s Jigsaw group ...   \n",
       "15  TinyML Book &#8212; machine learning for embed...   \n",
       "28  Simulated Customer &#8212; The site will rando...   \n",
       "57  For all the excitement about machine learning ...   \n",
       "\n",
       "                                       summary_detail  \\\n",
       "0   {'type': 'text/html', 'language': None, 'base'...   \n",
       "7   {'type': 'text/html', 'language': None, 'base'...   \n",
       "15  {'type': 'text/html', 'language': None, 'base'...   \n",
       "28  {'type': 'text/html', 'language': None, 'base'...   \n",
       "57  {'type': 'text/html', 'language': None, 'base'...   \n",
       "\n",
       "                                                 tags  \\\n",
       "0   [{'term': 'Four Short Links', 'scheme': None, ...   \n",
       "7   [{'term': 'Four Short Links', 'scheme': None, ...   \n",
       "15  [{'term': 'Four Short Links', 'scheme': None, ...   \n",
       "28  [{'term': 'Four Short Links', 'scheme': None, ...   \n",
       "57  [{'term': 'AI & ML', 'scheme': None, 'label': ...   \n",
       "\n",
       "                                                title  \\\n",
       "0                  Four short links: 13 February 2020   \n",
       "7                   Four short links: 6 February 2020   \n",
       "15                  Four short links: 28 January 2020   \n",
       "28                  Four short links: 13 January 2020   \n",
       "57  Why you should care about debugging machine le...   \n",
       "\n",
       "                                         title_detail  \\\n",
       "0   {'type': 'text/plain', 'language': None, 'base...   \n",
       "7   {'type': 'text/plain', 'language': None, 'base...   \n",
       "15  {'type': 'text/plain', 'language': None, 'base...   \n",
       "28  {'type': 'text/plain', 'language': None, 'base...   \n",
       "57  {'type': 'text/plain', 'language': None, 'base...   \n",
       "\n",
       "                                       wfw_commentrss len  title_length  \n",
       "0   https://www.oreilly.com/radar/four-short-links...  34            34  \n",
       "7   https://www.oreilly.com/radar/four-short-links...  33            33  \n",
       "15  https://www.oreilly.com/radar/four-short-links...  33            33  \n",
       "28  https://www.oreilly.com/radar/four-short-links...  33            33  \n",
       "57  https://www.oreilly.com/radar/why-you-should-c...  59            59  \n",
       "\n",
       "[5 rows x 21 columns]"
      ]
     },
     "execution_count": 149,
     "metadata": {},
     "output_type": "execute_result"
    }
   ],
   "source": [
    "df[df.summary.str.lower().str.contains('machine learning', regex=False)]\n",
    "# df[df.summary.str.lower()find('machine learning')!=-1].title"
   ]
  }
 ],
 "metadata": {
  "kernelspec": {
   "display_name": "Python 3",
   "language": "python",
   "name": "python3"
  },
  "language_info": {
   "codemirror_mode": {
    "name": "ipython",
    "version": 3
   },
   "file_extension": ".py",
   "mimetype": "text/x-python",
   "name": "python",
   "nbconvert_exporter": "python",
   "pygments_lexer": "ipython3",
   "version": "3.7.1"
  },
  "latex_envs": {
   "LaTeX_envs_menu_present": true,
   "autoclose": false,
   "autocomplete": true,
   "bibliofile": "biblio.bib",
   "cite_by": "apalike",
   "current_citInitial": 1,
   "eqLabelWithNumbers": true,
   "eqNumInitial": 1,
   "hotkeys": {
    "equation": "Ctrl-E",
    "itemize": "Ctrl-I"
   },
   "labels_anchors": false,
   "latex_user_defs": false,
   "report_style_numbering": false,
   "user_envs_cfg": false
  },
  "toc": {
   "base_numbering": 1,
   "nav_menu": {},
   "number_sections": true,
   "sideBar": true,
   "skip_h1_title": false,
   "title_cell": "Table of Contents",
   "title_sidebar": "Contents",
   "toc_cell": false,
   "toc_position": {},
   "toc_section_display": true,
   "toc_window_display": false
  },
  "varInspector": {
   "cols": {
    "lenName": 16,
    "lenType": 16,
    "lenVar": 40
   },
   "kernels_config": {
    "python": {
     "delete_cmd_postfix": "",
     "delete_cmd_prefix": "del ",
     "library": "var_list.py",
     "varRefreshCmd": "print(var_dic_list())"
    },
    "r": {
     "delete_cmd_postfix": ") ",
     "delete_cmd_prefix": "rm(",
     "library": "var_list.r",
     "varRefreshCmd": "cat(var_dic_list()) "
    }
   },
   "types_to_exclude": [
    "module",
    "function",
    "builtin_function_or_method",
    "instance",
    "_Feature"
   ],
   "window_display": false
  }
 },
 "nbformat": 4,
 "nbformat_minor": 2
}
