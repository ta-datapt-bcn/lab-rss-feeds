{
 "cells": [
  {
   "cell_type": "markdown",
   "metadata": {},
   "source": [
    "# Working with RSS Feeds Lab\n",
    "\n",
    "Complete the following set of exercises to solidify your knowledge of parsing RSS feeds and extracting information from them."
   ]
  },
  {
   "cell_type": "code",
   "execution_count": 1,
   "metadata": {
    "ExecuteTime": {
     "end_time": "2020-02-14T18:38:21.074406Z",
     "start_time": "2020-02-14T18:38:21.020762Z"
    }
   },
   "outputs": [],
   "source": [
    "import feedparser"
   ]
  },
  {
   "cell_type": "markdown",
   "metadata": {},
   "source": [
    "### 1. Use feedparser to parse the following RSS feed URL."
   ]
  },
  {
   "cell_type": "code",
   "execution_count": 2,
   "metadata": {
    "ExecuteTime": {
     "end_time": "2020-02-14T18:38:21.082008Z",
     "start_time": "2020-02-14T18:38:21.076823Z"
    }
   },
   "outputs": [],
   "source": [
    "url = 'http://feeds.feedburner.com/oreilly/radar/atom'"
   ]
  },
  {
   "cell_type": "code",
   "execution_count": 3,
   "metadata": {
    "ExecuteTime": {
     "end_time": "2020-02-14T18:38:22.473090Z",
     "start_time": "2020-02-14T18:38:21.085813Z"
    }
   },
   "outputs": [],
   "source": [
    "feedburner = feedparser.parse(url)"
   ]
  },
  {
   "cell_type": "markdown",
   "metadata": {},
   "source": [
    "### 2. Obtain a list of components (keys) that are available for this feed."
   ]
  },
  {
   "cell_type": "code",
   "execution_count": 4,
   "metadata": {
    "ExecuteTime": {
     "end_time": "2020-02-14T18:38:22.487927Z",
     "start_time": "2020-02-14T18:38:22.475540Z"
    }
   },
   "outputs": [
    {
     "data": {
      "text/plain": [
       "dict_keys(['feed', 'entries', 'bozo', 'headers', 'etag', 'updated', 'updated_parsed', 'href', 'status', 'encoding', 'version', 'namespaces'])"
      ]
     },
     "execution_count": 4,
     "metadata": {},
     "output_type": "execute_result"
    }
   ],
   "source": [
    "feedburner.keys()"
   ]
  },
  {
   "cell_type": "markdown",
   "metadata": {},
   "source": [
    "### 3. Obtain a list of components (keys) that are available for the *feed* component of this RSS feed."
   ]
  },
  {
   "cell_type": "code",
   "execution_count": 5,
   "metadata": {
    "ExecuteTime": {
     "end_time": "2020-02-14T18:38:22.498988Z",
     "start_time": "2020-02-14T18:38:22.490188Z"
    }
   },
   "outputs": [
    {
     "data": {
      "text/plain": [
       "dict_keys(['title', 'title_detail', 'links', 'link', 'subtitle', 'subtitle_detail', 'updated', 'updated_parsed', 'language', 'sy_updateperiod', 'sy_updatefrequency', 'generator_detail', 'generator', 'feedburner_info', 'geo_lat', 'geo_long', 'feedburner_emailserviceid', 'feedburner_feedburnerhostname'])"
      ]
     },
     "execution_count": 5,
     "metadata": {},
     "output_type": "execute_result"
    }
   ],
   "source": [
    "feedburner.feed.keys()"
   ]
  },
  {
   "cell_type": "markdown",
   "metadata": {},
   "source": [
    "### 4. Extract and print the feed title, subtitle, author, and link."
   ]
  },
  {
   "cell_type": "code",
   "execution_count": 6,
   "metadata": {
    "ExecuteTime": {
     "end_time": "2020-02-14T18:38:22.512226Z",
     "start_time": "2020-02-14T18:38:22.502179Z"
    }
   },
   "outputs": [
    {
     "name": "stdout",
     "output_type": "stream",
     "text": [
      "Title: Radar\n",
      "SubTitle: Now, next, and beyond: Tracking need-to-know trends at the intersection of business and technology\n",
      "Link: https://www.oreilly.com/radar\n"
     ]
    }
   ],
   "source": [
    "print('Title:',feedburner.feed.title)\n",
    "print('SubTitle:',feedburner.feed.subtitle)\n",
    "print('Link:',feedburner.feed.link)\n"
   ]
  },
  {
   "cell_type": "code",
   "execution_count": 7,
   "metadata": {
    "ExecuteTime": {
     "end_time": "2020-02-14T18:38:22.524540Z",
     "start_time": "2020-02-14T18:38:22.515945Z"
    }
   },
   "outputs": [],
   "source": [
    "#print('Author:',feedburner.entries[0].author)"
   ]
  },
  {
   "cell_type": "markdown",
   "metadata": {},
   "source": [
    "### 5. Count the number of entries that are contained in this RSS feed."
   ]
  },
  {
   "cell_type": "code",
   "execution_count": 8,
   "metadata": {
    "ExecuteTime": {
     "end_time": "2020-02-14T18:38:22.537434Z",
     "start_time": "2020-02-14T18:38:22.530157Z"
    }
   },
   "outputs": [
    {
     "data": {
      "text/plain": [
       "dict_keys(['title', 'title_detail', 'links', 'link', 'comments', 'published', 'published_parsed', 'authors', 'author', 'author_detail', 'tags', 'id', 'guidislink', 'summary', 'summary_detail', 'content', 'wfw_commentrss', 'slash_comments', 'feedburner_origlink'])"
      ]
     },
     "execution_count": 8,
     "metadata": {},
     "output_type": "execute_result"
    }
   ],
   "source": [
    "feedburner.entries[0].keys()"
   ]
  },
  {
   "cell_type": "code",
   "execution_count": 9,
   "metadata": {
    "ExecuteTime": {
     "end_time": "2020-02-14T18:38:22.547982Z",
     "start_time": "2020-02-14T18:38:22.540436Z"
    }
   },
   "outputs": [
    {
     "data": {
      "text/plain": [
       "60"
      ]
     },
     "execution_count": 9,
     "metadata": {},
     "output_type": "execute_result"
    }
   ],
   "source": [
    "entries=[i.title for i in feedburner.entries]\n",
    "len(entries)"
   ]
  },
  {
   "cell_type": "markdown",
   "metadata": {},
   "source": [
    "### 6. Obtain a list of components (keys) available for an entry.\n",
    "\n",
    "*Hint: Remember to index first before requesting the keys*"
   ]
  },
  {
   "cell_type": "code",
   "execution_count": 10,
   "metadata": {
    "ExecuteTime": {
     "end_time": "2020-02-14T18:38:22.559510Z",
     "start_time": "2020-02-14T18:38:22.551697Z"
    }
   },
   "outputs": [
    {
     "data": {
      "text/plain": [
       "dict_keys(['title', 'title_detail', 'links', 'link', 'comments', 'published', 'published_parsed', 'authors', 'author', 'author_detail', 'tags', 'id', 'guidislink', 'summary', 'summary_detail', 'content', 'wfw_commentrss', 'slash_comments', 'feedburner_origlink'])"
      ]
     },
     "execution_count": 10,
     "metadata": {},
     "output_type": "execute_result"
    }
   ],
   "source": [
    "feedburner.entries[0].keys()"
   ]
  },
  {
   "cell_type": "markdown",
   "metadata": {},
   "source": [
    "### 7. Extract a list of entry titles."
   ]
  },
  {
   "cell_type": "code",
   "execution_count": 11,
   "metadata": {
    "ExecuteTime": {
     "end_time": "2020-02-14T18:38:22.569908Z",
     "start_time": "2020-02-14T18:38:22.562578Z"
    }
   },
   "outputs": [],
   "source": [
    "titles=[i.title for i in feedburner.entries]"
   ]
  },
  {
   "cell_type": "markdown",
   "metadata": {},
   "source": [
    "### 8. Calculate the percentage of \"Four short links\" entry titles."
   ]
  },
  {
   "cell_type": "code",
   "execution_count": 12,
   "metadata": {
    "ExecuteTime": {
     "end_time": "2020-02-14T18:38:22.583164Z",
     "start_time": "2020-02-14T18:38:22.573073Z"
    }
   },
   "outputs": [
    {
     "data": {
      "text/plain": [
       "0.7833333333333333"
      ]
     },
     "execution_count": 12,
     "metadata": {},
     "output_type": "execute_result"
    }
   ],
   "source": [
    "titles_four=[i for i in titles if i.startswith('Four short links')==True ]\n",
    "\n",
    "\n",
    "len(titles_four)/len(titles)"
   ]
  },
  {
   "cell_type": "markdown",
   "metadata": {},
   "source": [
    "### 9. Create a Pandas data frame from the feed's entries."
   ]
  },
  {
   "cell_type": "code",
   "execution_count": 13,
   "metadata": {
    "ExecuteTime": {
     "end_time": "2020-02-14T18:38:23.073460Z",
     "start_time": "2020-02-14T18:38:22.586567Z"
    }
   },
   "outputs": [],
   "source": [
    "import pandas as pd\n",
    "from pandas.io.json import json_normalize"
   ]
  },
  {
   "cell_type": "code",
   "execution_count": 14,
   "metadata": {
    "ExecuteTime": {
     "end_time": "2020-02-14T18:38:23.127385Z",
     "start_time": "2020-02-14T18:38:23.075832Z"
    }
   },
   "outputs": [
    {
     "data": {
      "text/html": [
       "<div>\n",
       "<style scoped>\n",
       "    .dataframe tbody tr th:only-of-type {\n",
       "        vertical-align: middle;\n",
       "    }\n",
       "\n",
       "    .dataframe tbody tr th {\n",
       "        vertical-align: top;\n",
       "    }\n",
       "\n",
       "    .dataframe thead th {\n",
       "        text-align: right;\n",
       "    }\n",
       "</style>\n",
       "<table border=\"1\" class=\"dataframe\">\n",
       "  <thead>\n",
       "    <tr style=\"text-align: right;\">\n",
       "      <th></th>\n",
       "      <th>title</th>\n",
       "      <th>links</th>\n",
       "      <th>link</th>\n",
       "      <th>comments</th>\n",
       "      <th>published</th>\n",
       "      <th>published_parsed</th>\n",
       "      <th>authors</th>\n",
       "      <th>author</th>\n",
       "      <th>tags</th>\n",
       "      <th>id</th>\n",
       "      <th>...</th>\n",
       "      <th>feedburner_origlink</th>\n",
       "      <th>title_detail.type</th>\n",
       "      <th>title_detail.language</th>\n",
       "      <th>title_detail.base</th>\n",
       "      <th>title_detail.value</th>\n",
       "      <th>author_detail.name</th>\n",
       "      <th>summary_detail.type</th>\n",
       "      <th>summary_detail.language</th>\n",
       "      <th>summary_detail.base</th>\n",
       "      <th>summary_detail.value</th>\n",
       "    </tr>\n",
       "  </thead>\n",
       "  <tbody>\n",
       "    <tr>\n",
       "      <th>0</th>\n",
       "      <td>Four short links: 14 February 2020</td>\n",
       "      <td>[{'rel': 'alternate', 'type': 'text/html', 'hr...</td>\n",
       "      <td>http://feedproxy.google.com/~r/oreilly/radar/a...</td>\n",
       "      <td>https://www.oreilly.com/radar/four-short-links...</td>\n",
       "      <td>Fri, 14 Feb 2020 05:01:00 +0000</td>\n",
       "      <td>(2020, 2, 14, 5, 1, 0, 4, 45, 0)</td>\n",
       "      <td>[{'name': 'Nat Torkington'}]</td>\n",
       "      <td>Nat Torkington</td>\n",
       "      <td>[{'term': 'Four Short Links', 'scheme': None, ...</td>\n",
       "      <td>https://www.oreilly.com/radar/?p=11959</td>\n",
       "      <td>...</td>\n",
       "      <td>https://www.oreilly.com/radar/four-short-links...</td>\n",
       "      <td>text/plain</td>\n",
       "      <td>None</td>\n",
       "      <td>http://feeds.feedburner.com/oreilly/radar/atom</td>\n",
       "      <td>Four short links: 14 February 2020</td>\n",
       "      <td>Nat Torkington</td>\n",
       "      <td>text/html</td>\n",
       "      <td>None</td>\n",
       "      <td>http://feeds.feedburner.com/oreilly/radar/atom</td>\n",
       "      <td>ABD &amp;#8212; Course materials for Advanced Bina...</td>\n",
       "    </tr>\n",
       "    <tr>\n",
       "      <th>1</th>\n",
       "      <td>Four short links: 13 February 2020</td>\n",
       "      <td>[{'rel': 'alternate', 'type': 'text/html', 'hr...</td>\n",
       "      <td>http://feedproxy.google.com/~r/oreilly/radar/a...</td>\n",
       "      <td>https://www.oreilly.com/radar/four-short-links...</td>\n",
       "      <td>Thu, 13 Feb 2020 05:01:00 +0000</td>\n",
       "      <td>(2020, 2, 13, 5, 1, 0, 3, 44, 0)</td>\n",
       "      <td>[{'name': 'Nat Torkington'}]</td>\n",
       "      <td>Nat Torkington</td>\n",
       "      <td>[{'term': 'Four Short Links', 'scheme': None, ...</td>\n",
       "      <td>https://www.oreilly.com/radar/?p=11952</td>\n",
       "      <td>...</td>\n",
       "      <td>https://www.oreilly.com/radar/four-short-links...</td>\n",
       "      <td>text/plain</td>\n",
       "      <td>None</td>\n",
       "      <td>http://feeds.feedburner.com/oreilly/radar/atom</td>\n",
       "      <td>Four short links: 13 February 2020</td>\n",
       "      <td>Nat Torkington</td>\n",
       "      <td>text/html</td>\n",
       "      <td>None</td>\n",
       "      <td>http://feeds.feedburner.com/oreilly/radar/atom</td>\n",
       "      <td>Ofcom To Regulate UK Internet &amp;#8212; The regu...</td>\n",
       "    </tr>\n",
       "  </tbody>\n",
       "</table>\n",
       "<p>2 rows × 25 columns</p>\n",
       "</div>"
      ],
      "text/plain": [
       "                                title  \\\n",
       "0  Four short links: 14 February 2020   \n",
       "1  Four short links: 13 February 2020   \n",
       "\n",
       "                                               links  \\\n",
       "0  [{'rel': 'alternate', 'type': 'text/html', 'hr...   \n",
       "1  [{'rel': 'alternate', 'type': 'text/html', 'hr...   \n",
       "\n",
       "                                                link  \\\n",
       "0  http://feedproxy.google.com/~r/oreilly/radar/a...   \n",
       "1  http://feedproxy.google.com/~r/oreilly/radar/a...   \n",
       "\n",
       "                                            comments  \\\n",
       "0  https://www.oreilly.com/radar/four-short-links...   \n",
       "1  https://www.oreilly.com/radar/four-short-links...   \n",
       "\n",
       "                         published                  published_parsed  \\\n",
       "0  Fri, 14 Feb 2020 05:01:00 +0000  (2020, 2, 14, 5, 1, 0, 4, 45, 0)   \n",
       "1  Thu, 13 Feb 2020 05:01:00 +0000  (2020, 2, 13, 5, 1, 0, 3, 44, 0)   \n",
       "\n",
       "                        authors          author  \\\n",
       "0  [{'name': 'Nat Torkington'}]  Nat Torkington   \n",
       "1  [{'name': 'Nat Torkington'}]  Nat Torkington   \n",
       "\n",
       "                                                tags  \\\n",
       "0  [{'term': 'Four Short Links', 'scheme': None, ...   \n",
       "1  [{'term': 'Four Short Links', 'scheme': None, ...   \n",
       "\n",
       "                                       id  ...  \\\n",
       "0  https://www.oreilly.com/radar/?p=11959  ...   \n",
       "1  https://www.oreilly.com/radar/?p=11952  ...   \n",
       "\n",
       "                                 feedburner_origlink title_detail.type  \\\n",
       "0  https://www.oreilly.com/radar/four-short-links...        text/plain   \n",
       "1  https://www.oreilly.com/radar/four-short-links...        text/plain   \n",
       "\n",
       "  title_detail.language                               title_detail.base  \\\n",
       "0                  None  http://feeds.feedburner.com/oreilly/radar/atom   \n",
       "1                  None  http://feeds.feedburner.com/oreilly/radar/atom   \n",
       "\n",
       "                   title_detail.value author_detail.name summary_detail.type  \\\n",
       "0  Four short links: 14 February 2020     Nat Torkington           text/html   \n",
       "1  Four short links: 13 February 2020     Nat Torkington           text/html   \n",
       "\n",
       "  summary_detail.language                             summary_detail.base  \\\n",
       "0                    None  http://feeds.feedburner.com/oreilly/radar/atom   \n",
       "1                    None  http://feeds.feedburner.com/oreilly/radar/atom   \n",
       "\n",
       "                                summary_detail.value  \n",
       "0  ABD &#8212; Course materials for Advanced Bina...  \n",
       "1  Ofcom To Regulate UK Internet &#8212; The regu...  \n",
       "\n",
       "[2 rows x 25 columns]"
      ]
     },
     "execution_count": 14,
     "metadata": {},
     "output_type": "execute_result"
    }
   ],
   "source": [
    "x=json_normalize(feedburner.entries)\n",
    "df=pd.DataFrame(x)\n",
    "df.head(2)"
   ]
  },
  {
   "cell_type": "markdown",
   "metadata": {},
   "source": [
    "### 10. Count the number of entries per author and sort them in descending order."
   ]
  },
  {
   "cell_type": "code",
   "execution_count": 15,
   "metadata": {
    "ExecuteTime": {
     "end_time": "2020-02-14T18:38:23.144444Z",
     "start_time": "2020-02-14T18:38:23.129166Z"
    }
   },
   "outputs": [
    {
     "data": {
      "text/html": [
       "<div>\n",
       "<style scoped>\n",
       "    .dataframe tbody tr th:only-of-type {\n",
       "        vertical-align: middle;\n",
       "    }\n",
       "\n",
       "    .dataframe tbody tr th {\n",
       "        vertical-align: top;\n",
       "    }\n",
       "\n",
       "    .dataframe thead th {\n",
       "        text-align: right;\n",
       "    }\n",
       "</style>\n",
       "<table border=\"1\" class=\"dataframe\">\n",
       "  <thead>\n",
       "    <tr style=\"text-align: right;\">\n",
       "      <th></th>\n",
       "      <th>author</th>\n",
       "      <th>id</th>\n",
       "    </tr>\n",
       "  </thead>\n",
       "  <tbody>\n",
       "    <tr>\n",
       "      <th>4</th>\n",
       "      <td>Nat Torkington</td>\n",
       "      <td>47</td>\n",
       "    </tr>\n",
       "    <tr>\n",
       "      <th>3</th>\n",
       "      <td>Mike Loukides</td>\n",
       "      <td>4</td>\n",
       "    </tr>\n",
       "    <tr>\n",
       "      <th>0</th>\n",
       "      <td></td>\n",
       "      <td>2</td>\n",
       "    </tr>\n",
       "    <tr>\n",
       "      <th>2</th>\n",
       "      <td>Jenn Webb</td>\n",
       "      <td>2</td>\n",
       "    </tr>\n",
       "    <tr>\n",
       "      <th>1</th>\n",
       "      <td>Alison McCauley</td>\n",
       "      <td>1</td>\n",
       "    </tr>\n",
       "    <tr>\n",
       "      <th>5</th>\n",
       "      <td>Patrick Hall and Andrew Burt</td>\n",
       "      <td>1</td>\n",
       "    </tr>\n",
       "    <tr>\n",
       "      <th>6</th>\n",
       "      <td>Roger Magoulas</td>\n",
       "      <td>1</td>\n",
       "    </tr>\n",
       "    <tr>\n",
       "      <th>7</th>\n",
       "      <td>Roger Magoulas and Steve Swoyer</td>\n",
       "      <td>1</td>\n",
       "    </tr>\n",
       "    <tr>\n",
       "      <th>8</th>\n",
       "      <td>Zan McQuade and Amanda Quinn</td>\n",
       "      <td>1</td>\n",
       "    </tr>\n",
       "  </tbody>\n",
       "</table>\n",
       "</div>"
      ],
      "text/plain": [
       "                            author  id\n",
       "4                   Nat Torkington  47\n",
       "3                    Mike Loukides   4\n",
       "0                                    2\n",
       "2                        Jenn Webb   2\n",
       "1                  Alison McCauley   1\n",
       "5     Patrick Hall and Andrew Burt   1\n",
       "6                   Roger Magoulas   1\n",
       "7  Roger Magoulas and Steve Swoyer   1\n",
       "8     Zan McQuade and Amanda Quinn   1"
      ]
     },
     "execution_count": 15,
     "metadata": {},
     "output_type": "execute_result"
    }
   ],
   "source": [
    "author_desc = df.groupby('author', as_index=False)['id'].count()\n",
    "author_desc.sort_values(by=['id'], ascending=False).head(15)"
   ]
  },
  {
   "cell_type": "markdown",
   "metadata": {},
   "source": [
    "### 11. Add a new column to the data frame that contains the length (number of characters) of each entry title. Return a data frame that contains the title, author, and title length of each entry in descending order (longest title length at the top)."
   ]
  },
  {
   "cell_type": "code",
   "execution_count": 16,
   "metadata": {
    "ExecuteTime": {
     "end_time": "2020-02-14T18:38:23.158362Z",
     "start_time": "2020-02-14T18:38:23.147671Z"
    }
   },
   "outputs": [],
   "source": [
    "df['title_lenght']=df['title'].apply(len)"
   ]
  },
  {
   "cell_type": "code",
   "execution_count": 17,
   "metadata": {
    "ExecuteTime": {
     "end_time": "2020-02-14T18:38:23.187756Z",
     "start_time": "2020-02-14T18:38:23.165351Z"
    }
   },
   "outputs": [
    {
     "data": {
      "text/html": [
       "<div>\n",
       "<style scoped>\n",
       "    .dataframe tbody tr th:only-of-type {\n",
       "        vertical-align: middle;\n",
       "    }\n",
       "\n",
       "    .dataframe tbody tr th {\n",
       "        vertical-align: top;\n",
       "    }\n",
       "\n",
       "    .dataframe thead th {\n",
       "        text-align: right;\n",
       "    }\n",
       "</style>\n",
       "<table border=\"1\" class=\"dataframe\">\n",
       "  <thead>\n",
       "    <tr style=\"text-align: right;\">\n",
       "      <th></th>\n",
       "      <th>title</th>\n",
       "      <th>author</th>\n",
       "      <th>title_lenght</th>\n",
       "    </tr>\n",
       "  </thead>\n",
       "  <tbody>\n",
       "    <tr>\n",
       "      <th>55</th>\n",
       "      <td>5 industries that demonstrate how blockchains ...</td>\n",
       "      <td>Alison McCauley</td>\n",
       "      <td>63</td>\n",
       "    </tr>\n",
       "    <tr>\n",
       "      <th>58</th>\n",
       "      <td>Why you should care about debugging machine le...</td>\n",
       "      <td>Patrick Hall and Andrew Burt</td>\n",
       "      <td>59</td>\n",
       "    </tr>\n",
       "    <tr>\n",
       "      <th>28</th>\n",
       "      <td>Where programming languages are headed in 2020</td>\n",
       "      <td>Zan McQuade and Amanda Quinn</td>\n",
       "      <td>46</td>\n",
       "    </tr>\n",
       "    <tr>\n",
       "      <th>52</th>\n",
       "      <td>AI is computer science disguised as hard work</td>\n",
       "      <td>Jenn Webb</td>\n",
       "      <td>45</td>\n",
       "    </tr>\n",
       "    <tr>\n",
       "      <th>25</th>\n",
       "      <td>Reinforcement learning for the real world</td>\n",
       "      <td>Jenn Webb</td>\n",
       "      <td>41</td>\n",
       "    </tr>\n",
       "  </tbody>\n",
       "</table>\n",
       "</div>"
      ],
      "text/plain": [
       "                                                title  \\\n",
       "55  5 industries that demonstrate how blockchains ...   \n",
       "58  Why you should care about debugging machine le...   \n",
       "28     Where programming languages are headed in 2020   \n",
       "52      AI is computer science disguised as hard work   \n",
       "25          Reinforcement learning for the real world   \n",
       "\n",
       "                          author  title_lenght  \n",
       "55               Alison McCauley            63  \n",
       "58  Patrick Hall and Andrew Burt            59  \n",
       "28  Zan McQuade and Amanda Quinn            46  \n",
       "52                     Jenn Webb            45  \n",
       "25                     Jenn Webb            41  "
      ]
     },
     "execution_count": 17,
     "metadata": {},
     "output_type": "execute_result"
    }
   ],
   "source": [
    "len_titles=df[['title','author','title_lenght']].sort_values(by='title_lenght',ascending=False)\n",
    "len_titles.head(5)"
   ]
  },
  {
   "cell_type": "markdown",
   "metadata": {},
   "source": [
    "### 12. Create a list of entry titles whose summary includes the phrase \"machine learning.\""
   ]
  },
  {
   "cell_type": "code",
   "execution_count": 18,
   "metadata": {
    "ExecuteTime": {
     "end_time": "2020-02-14T18:38:23.201331Z",
     "start_time": "2020-02-14T18:38:23.191522Z"
    }
   },
   "outputs": [],
   "source": [
    "df['entry_title_mach']=df['summary'].str.contains('machine learning')"
   ]
  },
  {
   "cell_type": "code",
   "execution_count": 19,
   "metadata": {
    "ExecuteTime": {
     "end_time": "2020-02-14T18:38:23.220619Z",
     "start_time": "2020-02-14T18:38:23.204067Z"
    }
   },
   "outputs": [],
   "source": [
    "df2 = df['title'].where(df['entry_title_mach']==True).dropna()"
   ]
  },
  {
   "cell_type": "code",
   "execution_count": 20,
   "metadata": {
    "ExecuteTime": {
     "end_time": "2020-02-14T18:38:23.240110Z",
     "start_time": "2020-02-14T18:38:23.225099Z"
    }
   },
   "outputs": [
    {
     "data": {
      "text/plain": [
       "1                    Four short links: 13 February 2020\n",
       "16                    Four short links: 28 January 2020\n",
       "29                    Four short links: 13 January 2020\n",
       "58    Why you should care about debugging machine le...\n",
       "Name: title, dtype: object"
      ]
     },
     "execution_count": 20,
     "metadata": {},
     "output_type": "execute_result"
    }
   ],
   "source": [
    "df2"
   ]
  },
  {
   "cell_type": "code",
   "execution_count": null,
   "metadata": {},
   "outputs": [],
   "source": []
  }
 ],
 "metadata": {
  "kernelspec": {
   "display_name": "Python 3",
   "language": "python",
   "name": "python3"
  },
  "language_info": {
   "codemirror_mode": {
    "name": "ipython",
    "version": 3
   },
   "file_extension": ".py",
   "mimetype": "text/x-python",
   "name": "python",
   "nbconvert_exporter": "python",
   "pygments_lexer": "ipython3",
   "version": "3.7.4"
  },
  "varInspector": {
   "cols": {
    "lenName": 16,
    "lenType": 16,
    "lenVar": 40
   },
   "kernels_config": {
    "python": {
     "delete_cmd_postfix": "",
     "delete_cmd_prefix": "del ",
     "library": "var_list.py",
     "varRefreshCmd": "print(var_dic_list())"
    },
    "r": {
     "delete_cmd_postfix": ") ",
     "delete_cmd_prefix": "rm(",
     "library": "var_list.r",
     "varRefreshCmd": "cat(var_dic_list()) "
    }
   },
   "types_to_exclude": [
    "module",
    "function",
    "builtin_function_or_method",
    "instance",
    "_Feature"
   ],
   "window_display": false
  }
 },
 "nbformat": 4,
 "nbformat_minor": 2
}
